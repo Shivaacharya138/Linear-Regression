{
  "nbformat": 4,
  "nbformat_minor": 0,
  "metadata": {
    "colab": {
      "provenance": [],
      "authorship_tag": "ABX9TyPiiAU0ckq92hQGJBivhTrl",
      "include_colab_link": true
    },
    "kernelspec": {
      "name": "python3",
      "display_name": "Python 3"
    },
    "language_info": {
      "name": "python"
    }
  },
  "cells": [
    {
      "cell_type": "markdown",
      "metadata": {
        "id": "view-in-github",
        "colab_type": "text"
      },
      "source": [
        "<a href=\"https://colab.research.google.com/github/Shivaacharya138/Linear-Regression/blob/main/Linear_regression_boat_data.ipynb\" target=\"_parent\"><img src=\"https://colab.research.google.com/assets/colab-badge.svg\" alt=\"Open In Colab\"/></a>"
      ]
    },
    {
      "cell_type": "code",
      "execution_count": 1,
      "metadata": {
        "id": "_8YEpdh1g91k"
      },
      "outputs": [],
      "source": [
        "import numpy as np\n",
        "import pandas as pd"
      ]
    },
    {
      "cell_type": "code",
      "source": [
        "df = pd.read_csv('boat_data.csv')"
      ],
      "metadata": {
        "id": "NoX9NFcvhFyD"
      },
      "execution_count": 2,
      "outputs": []
    },
    {
      "cell_type": "code",
      "source": [
        "df.head()"
      ],
      "metadata": {
        "colab": {
          "base_uri": "https://localhost:8080/",
          "height": 354
        },
        "id": "zSX1Qyueh_oH",
        "outputId": "f05d0d4b-438a-44fe-d6b6-5899da32b9c3"
      },
      "execution_count": 3,
      "outputs": [
        {
          "output_type": "execute_result",
          "data": {
            "text/plain": [
              "       Price            Boat Type          Manufacturer                 Type  \\\n",
              "0   CHF 3337          Motor Yacht  Rigiflex power boats  new boat from stock   \n",
              "1   EUR 3490  Center console boat     Terhi power boats  new boat from stock   \n",
              "2   CHF 3770           Sport Boat    Marine power boats  new boat from stock   \n",
              "3  DKK 25900           Sport Boat    Pioner power boats  new boat from stock   \n",
              "4   EUR 3399         Fishing Boat    Linder power boats  new boat from stock   \n",
              "\n",
              "   Year Built  Length  Width       Material  \\\n",
              "0        2017    4.00   1.90            NaN   \n",
              "1        2020    4.00   1.50  Thermoplastic   \n",
              "2           0    3.69   1.42      Aluminium   \n",
              "3        2020    3.00   1.00            NaN   \n",
              "4        2019    3.55   1.46      Aluminium   \n",
              "\n",
              "                                     Location  Number of views last 7 days  \n",
              "0      Switzerland Â» Lake Geneva Â» VÃ©senaz                          226  \n",
              "1                    Germany Â» BÃ¶nningstedt                           75  \n",
              "2  Switzerland Â» Lake of Zurich Â» StÃ¤fa ZH                          124  \n",
              "3                        Denmark Â» Svendborg                           64  \n",
              "4               Germany Â» Bayern Â» MÃ¼nchen                           58  "
            ],
            "text/html": [
              "\n",
              "  <div id=\"df-128bdd76-3ab8-4213-81ef-d7cb57f1df38\">\n",
              "    <div class=\"colab-df-container\">\n",
              "      <div>\n",
              "<style scoped>\n",
              "    .dataframe tbody tr th:only-of-type {\n",
              "        vertical-align: middle;\n",
              "    }\n",
              "\n",
              "    .dataframe tbody tr th {\n",
              "        vertical-align: top;\n",
              "    }\n",
              "\n",
              "    .dataframe thead th {\n",
              "        text-align: right;\n",
              "    }\n",
              "</style>\n",
              "<table border=\"1\" class=\"dataframe\">\n",
              "  <thead>\n",
              "    <tr style=\"text-align: right;\">\n",
              "      <th></th>\n",
              "      <th>Price</th>\n",
              "      <th>Boat Type</th>\n",
              "      <th>Manufacturer</th>\n",
              "      <th>Type</th>\n",
              "      <th>Year Built</th>\n",
              "      <th>Length</th>\n",
              "      <th>Width</th>\n",
              "      <th>Material</th>\n",
              "      <th>Location</th>\n",
              "      <th>Number of views last 7 days</th>\n",
              "    </tr>\n",
              "  </thead>\n",
              "  <tbody>\n",
              "    <tr>\n",
              "      <th>0</th>\n",
              "      <td>CHF 3337</td>\n",
              "      <td>Motor Yacht</td>\n",
              "      <td>Rigiflex power boats</td>\n",
              "      <td>new boat from stock</td>\n",
              "      <td>2017</td>\n",
              "      <td>4.00</td>\n",
              "      <td>1.90</td>\n",
              "      <td>NaN</td>\n",
              "      <td>Switzerland Â» Lake Geneva Â» VÃ©senaz</td>\n",
              "      <td>226</td>\n",
              "    </tr>\n",
              "    <tr>\n",
              "      <th>1</th>\n",
              "      <td>EUR 3490</td>\n",
              "      <td>Center console boat</td>\n",
              "      <td>Terhi power boats</td>\n",
              "      <td>new boat from stock</td>\n",
              "      <td>2020</td>\n",
              "      <td>4.00</td>\n",
              "      <td>1.50</td>\n",
              "      <td>Thermoplastic</td>\n",
              "      <td>Germany Â» BÃ¶nningstedt</td>\n",
              "      <td>75</td>\n",
              "    </tr>\n",
              "    <tr>\n",
              "      <th>2</th>\n",
              "      <td>CHF 3770</td>\n",
              "      <td>Sport Boat</td>\n",
              "      <td>Marine power boats</td>\n",
              "      <td>new boat from stock</td>\n",
              "      <td>0</td>\n",
              "      <td>3.69</td>\n",
              "      <td>1.42</td>\n",
              "      <td>Aluminium</td>\n",
              "      <td>Switzerland Â» Lake of Zurich Â» StÃ¤fa ZH</td>\n",
              "      <td>124</td>\n",
              "    </tr>\n",
              "    <tr>\n",
              "      <th>3</th>\n",
              "      <td>DKK 25900</td>\n",
              "      <td>Sport Boat</td>\n",
              "      <td>Pioner power boats</td>\n",
              "      <td>new boat from stock</td>\n",
              "      <td>2020</td>\n",
              "      <td>3.00</td>\n",
              "      <td>1.00</td>\n",
              "      <td>NaN</td>\n",
              "      <td>Denmark Â» Svendborg</td>\n",
              "      <td>64</td>\n",
              "    </tr>\n",
              "    <tr>\n",
              "      <th>4</th>\n",
              "      <td>EUR 3399</td>\n",
              "      <td>Fishing Boat</td>\n",
              "      <td>Linder power boats</td>\n",
              "      <td>new boat from stock</td>\n",
              "      <td>2019</td>\n",
              "      <td>3.55</td>\n",
              "      <td>1.46</td>\n",
              "      <td>Aluminium</td>\n",
              "      <td>Germany Â» Bayern Â» MÃ¼nchen</td>\n",
              "      <td>58</td>\n",
              "    </tr>\n",
              "  </tbody>\n",
              "</table>\n",
              "</div>\n",
              "      <button class=\"colab-df-convert\" onclick=\"convertToInteractive('df-128bdd76-3ab8-4213-81ef-d7cb57f1df38')\"\n",
              "              title=\"Convert this dataframe to an interactive table.\"\n",
              "              style=\"display:none;\">\n",
              "        \n",
              "  <svg xmlns=\"http://www.w3.org/2000/svg\" height=\"24px\"viewBox=\"0 0 24 24\"\n",
              "       width=\"24px\">\n",
              "    <path d=\"M0 0h24v24H0V0z\" fill=\"none\"/>\n",
              "    <path d=\"M18.56 5.44l.94 2.06.94-2.06 2.06-.94-2.06-.94-.94-2.06-.94 2.06-2.06.94zm-11 1L8.5 8.5l.94-2.06 2.06-.94-2.06-.94L8.5 2.5l-.94 2.06-2.06.94zm10 10l.94 2.06.94-2.06 2.06-.94-2.06-.94-.94-2.06-.94 2.06-2.06.94z\"/><path d=\"M17.41 7.96l-1.37-1.37c-.4-.4-.92-.59-1.43-.59-.52 0-1.04.2-1.43.59L10.3 9.45l-7.72 7.72c-.78.78-.78 2.05 0 2.83L4 21.41c.39.39.9.59 1.41.59.51 0 1.02-.2 1.41-.59l7.78-7.78 2.81-2.81c.8-.78.8-2.07 0-2.86zM5.41 20L4 18.59l7.72-7.72 1.47 1.35L5.41 20z\"/>\n",
              "  </svg>\n",
              "      </button>\n",
              "      \n",
              "  <style>\n",
              "    .colab-df-container {\n",
              "      display:flex;\n",
              "      flex-wrap:wrap;\n",
              "      gap: 12px;\n",
              "    }\n",
              "\n",
              "    .colab-df-convert {\n",
              "      background-color: #E8F0FE;\n",
              "      border: none;\n",
              "      border-radius: 50%;\n",
              "      cursor: pointer;\n",
              "      display: none;\n",
              "      fill: #1967D2;\n",
              "      height: 32px;\n",
              "      padding: 0 0 0 0;\n",
              "      width: 32px;\n",
              "    }\n",
              "\n",
              "    .colab-df-convert:hover {\n",
              "      background-color: #E2EBFA;\n",
              "      box-shadow: 0px 1px 2px rgba(60, 64, 67, 0.3), 0px 1px 3px 1px rgba(60, 64, 67, 0.15);\n",
              "      fill: #174EA6;\n",
              "    }\n",
              "\n",
              "    [theme=dark] .colab-df-convert {\n",
              "      background-color: #3B4455;\n",
              "      fill: #D2E3FC;\n",
              "    }\n",
              "\n",
              "    [theme=dark] .colab-df-convert:hover {\n",
              "      background-color: #434B5C;\n",
              "      box-shadow: 0px 1px 3px 1px rgba(0, 0, 0, 0.15);\n",
              "      filter: drop-shadow(0px 1px 2px rgba(0, 0, 0, 0.3));\n",
              "      fill: #FFFFFF;\n",
              "    }\n",
              "  </style>\n",
              "\n",
              "      <script>\n",
              "        const buttonEl =\n",
              "          document.querySelector('#df-128bdd76-3ab8-4213-81ef-d7cb57f1df38 button.colab-df-convert');\n",
              "        buttonEl.style.display =\n",
              "          google.colab.kernel.accessAllowed ? 'block' : 'none';\n",
              "\n",
              "        async function convertToInteractive(key) {\n",
              "          const element = document.querySelector('#df-128bdd76-3ab8-4213-81ef-d7cb57f1df38');\n",
              "          const dataTable =\n",
              "            await google.colab.kernel.invokeFunction('convertToInteractive',\n",
              "                                                     [key], {});\n",
              "          if (!dataTable) return;\n",
              "\n",
              "          const docLinkHtml = 'Like what you see? Visit the ' +\n",
              "            '<a target=\"_blank\" href=https://colab.research.google.com/notebooks/data_table.ipynb>data table notebook</a>'\n",
              "            + ' to learn more about interactive tables.';\n",
              "          element.innerHTML = '';\n",
              "          dataTable['output_type'] = 'display_data';\n",
              "          await google.colab.output.renderOutput(dataTable, element);\n",
              "          const docLink = document.createElement('div');\n",
              "          docLink.innerHTML = docLinkHtml;\n",
              "          element.appendChild(docLink);\n",
              "        }\n",
              "      </script>\n",
              "    </div>\n",
              "  </div>\n",
              "  "
            ]
          },
          "metadata": {},
          "execution_count": 3
        }
      ]
    },
    {
      "cell_type": "code",
      "source": [
        "df.tail()"
      ],
      "metadata": {
        "colab": {
          "base_uri": "https://localhost:8080/",
          "height": 354
        },
        "id": "bciHsXjtiH4o",
        "outputId": "d362a699-61de-47cc-dd54-093e77f6730f"
      },
      "execution_count": 4,
      "outputs": [
        {
          "output_type": "execute_result",
          "data": {
            "text/plain": [
              "         Price     Boat Type           Manufacturer  \\\n",
              "9883  CHF 4900    Sport Boat    Sea Ray power boats   \n",
              "9884  EUR 4516    Sport Boat                    NaN   \n",
              "9885  EUR 4499    Sport Boat  BlueCraft power boats   \n",
              "9886  EUR 4300  Pontoon Boat      Whaly power boats   \n",
              "9887  CHF 3780  Fishing Boat    DarekCo power boats   \n",
              "\n",
              "                              Type  Year Built  Length  Width Material  \\\n",
              "9883            Used boat,Unleaded        1987    6.30   2.44      NaN   \n",
              "9884           new boat from stock           0    4.17   1.68      GRP   \n",
              "9885  new boat from stock,Unleaded        2020    4.40   1.80      GRP   \n",
              "9886           new boat from stock        2018    4.37   1.89      NaN   \n",
              "9887           new boat from stock        2019    3.60   1.60      GRP   \n",
              "\n",
              "                                      Location  Number of views last 7 days  \n",
              "9883  Switzerland Â» Lago Maggiore Â» Riazzino                         1116  \n",
              "9884             Germany Â» Hamburg Â» HAMBURG                           94  \n",
              "9885   Germany Â» Nordrhein-Westfalen Â» Wesel                          354  \n",
              "9886                     Italy Â» Dormelletto                           266  \n",
              "9887      Switzerland Â» Brienzersee Â» Brienz                          194  "
            ],
            "text/html": [
              "\n",
              "  <div id=\"df-b362c12e-1b8a-4d03-b697-ec00d4678735\">\n",
              "    <div class=\"colab-df-container\">\n",
              "      <div>\n",
              "<style scoped>\n",
              "    .dataframe tbody tr th:only-of-type {\n",
              "        vertical-align: middle;\n",
              "    }\n",
              "\n",
              "    .dataframe tbody tr th {\n",
              "        vertical-align: top;\n",
              "    }\n",
              "\n",
              "    .dataframe thead th {\n",
              "        text-align: right;\n",
              "    }\n",
              "</style>\n",
              "<table border=\"1\" class=\"dataframe\">\n",
              "  <thead>\n",
              "    <tr style=\"text-align: right;\">\n",
              "      <th></th>\n",
              "      <th>Price</th>\n",
              "      <th>Boat Type</th>\n",
              "      <th>Manufacturer</th>\n",
              "      <th>Type</th>\n",
              "      <th>Year Built</th>\n",
              "      <th>Length</th>\n",
              "      <th>Width</th>\n",
              "      <th>Material</th>\n",
              "      <th>Location</th>\n",
              "      <th>Number of views last 7 days</th>\n",
              "    </tr>\n",
              "  </thead>\n",
              "  <tbody>\n",
              "    <tr>\n",
              "      <th>9883</th>\n",
              "      <td>CHF 4900</td>\n",
              "      <td>Sport Boat</td>\n",
              "      <td>Sea Ray power boats</td>\n",
              "      <td>Used boat,Unleaded</td>\n",
              "      <td>1987</td>\n",
              "      <td>6.30</td>\n",
              "      <td>2.44</td>\n",
              "      <td>NaN</td>\n",
              "      <td>Switzerland Â» Lago Maggiore Â» Riazzino</td>\n",
              "      <td>1116</td>\n",
              "    </tr>\n",
              "    <tr>\n",
              "      <th>9884</th>\n",
              "      <td>EUR 4516</td>\n",
              "      <td>Sport Boat</td>\n",
              "      <td>NaN</td>\n",
              "      <td>new boat from stock</td>\n",
              "      <td>0</td>\n",
              "      <td>4.17</td>\n",
              "      <td>1.68</td>\n",
              "      <td>GRP</td>\n",
              "      <td>Germany Â» Hamburg Â» HAMBURG</td>\n",
              "      <td>94</td>\n",
              "    </tr>\n",
              "    <tr>\n",
              "      <th>9885</th>\n",
              "      <td>EUR 4499</td>\n",
              "      <td>Sport Boat</td>\n",
              "      <td>BlueCraft power boats</td>\n",
              "      <td>new boat from stock,Unleaded</td>\n",
              "      <td>2020</td>\n",
              "      <td>4.40</td>\n",
              "      <td>1.80</td>\n",
              "      <td>GRP</td>\n",
              "      <td>Germany Â» Nordrhein-Westfalen Â» Wesel</td>\n",
              "      <td>354</td>\n",
              "    </tr>\n",
              "    <tr>\n",
              "      <th>9886</th>\n",
              "      <td>EUR 4300</td>\n",
              "      <td>Pontoon Boat</td>\n",
              "      <td>Whaly power boats</td>\n",
              "      <td>new boat from stock</td>\n",
              "      <td>2018</td>\n",
              "      <td>4.37</td>\n",
              "      <td>1.89</td>\n",
              "      <td>NaN</td>\n",
              "      <td>Italy Â» Dormelletto</td>\n",
              "      <td>266</td>\n",
              "    </tr>\n",
              "    <tr>\n",
              "      <th>9887</th>\n",
              "      <td>CHF 3780</td>\n",
              "      <td>Fishing Boat</td>\n",
              "      <td>DarekCo power boats</td>\n",
              "      <td>new boat from stock</td>\n",
              "      <td>2019</td>\n",
              "      <td>3.60</td>\n",
              "      <td>1.60</td>\n",
              "      <td>GRP</td>\n",
              "      <td>Switzerland Â» Brienzersee Â» Brienz</td>\n",
              "      <td>194</td>\n",
              "    </tr>\n",
              "  </tbody>\n",
              "</table>\n",
              "</div>\n",
              "      <button class=\"colab-df-convert\" onclick=\"convertToInteractive('df-b362c12e-1b8a-4d03-b697-ec00d4678735')\"\n",
              "              title=\"Convert this dataframe to an interactive table.\"\n",
              "              style=\"display:none;\">\n",
              "        \n",
              "  <svg xmlns=\"http://www.w3.org/2000/svg\" height=\"24px\"viewBox=\"0 0 24 24\"\n",
              "       width=\"24px\">\n",
              "    <path d=\"M0 0h24v24H0V0z\" fill=\"none\"/>\n",
              "    <path d=\"M18.56 5.44l.94 2.06.94-2.06 2.06-.94-2.06-.94-.94-2.06-.94 2.06-2.06.94zm-11 1L8.5 8.5l.94-2.06 2.06-.94-2.06-.94L8.5 2.5l-.94 2.06-2.06.94zm10 10l.94 2.06.94-2.06 2.06-.94-2.06-.94-.94-2.06-.94 2.06-2.06.94z\"/><path d=\"M17.41 7.96l-1.37-1.37c-.4-.4-.92-.59-1.43-.59-.52 0-1.04.2-1.43.59L10.3 9.45l-7.72 7.72c-.78.78-.78 2.05 0 2.83L4 21.41c.39.39.9.59 1.41.59.51 0 1.02-.2 1.41-.59l7.78-7.78 2.81-2.81c.8-.78.8-2.07 0-2.86zM5.41 20L4 18.59l7.72-7.72 1.47 1.35L5.41 20z\"/>\n",
              "  </svg>\n",
              "      </button>\n",
              "      \n",
              "  <style>\n",
              "    .colab-df-container {\n",
              "      display:flex;\n",
              "      flex-wrap:wrap;\n",
              "      gap: 12px;\n",
              "    }\n",
              "\n",
              "    .colab-df-convert {\n",
              "      background-color: #E8F0FE;\n",
              "      border: none;\n",
              "      border-radius: 50%;\n",
              "      cursor: pointer;\n",
              "      display: none;\n",
              "      fill: #1967D2;\n",
              "      height: 32px;\n",
              "      padding: 0 0 0 0;\n",
              "      width: 32px;\n",
              "    }\n",
              "\n",
              "    .colab-df-convert:hover {\n",
              "      background-color: #E2EBFA;\n",
              "      box-shadow: 0px 1px 2px rgba(60, 64, 67, 0.3), 0px 1px 3px 1px rgba(60, 64, 67, 0.15);\n",
              "      fill: #174EA6;\n",
              "    }\n",
              "\n",
              "    [theme=dark] .colab-df-convert {\n",
              "      background-color: #3B4455;\n",
              "      fill: #D2E3FC;\n",
              "    }\n",
              "\n",
              "    [theme=dark] .colab-df-convert:hover {\n",
              "      background-color: #434B5C;\n",
              "      box-shadow: 0px 1px 3px 1px rgba(0, 0, 0, 0.15);\n",
              "      filter: drop-shadow(0px 1px 2px rgba(0, 0, 0, 0.3));\n",
              "      fill: #FFFFFF;\n",
              "    }\n",
              "  </style>\n",
              "\n",
              "      <script>\n",
              "        const buttonEl =\n",
              "          document.querySelector('#df-b362c12e-1b8a-4d03-b697-ec00d4678735 button.colab-df-convert');\n",
              "        buttonEl.style.display =\n",
              "          google.colab.kernel.accessAllowed ? 'block' : 'none';\n",
              "\n",
              "        async function convertToInteractive(key) {\n",
              "          const element = document.querySelector('#df-b362c12e-1b8a-4d03-b697-ec00d4678735');\n",
              "          const dataTable =\n",
              "            await google.colab.kernel.invokeFunction('convertToInteractive',\n",
              "                                                     [key], {});\n",
              "          if (!dataTable) return;\n",
              "\n",
              "          const docLinkHtml = 'Like what you see? Visit the ' +\n",
              "            '<a target=\"_blank\" href=https://colab.research.google.com/notebooks/data_table.ipynb>data table notebook</a>'\n",
              "            + ' to learn more about interactive tables.';\n",
              "          element.innerHTML = '';\n",
              "          dataTable['output_type'] = 'display_data';\n",
              "          await google.colab.output.renderOutput(dataTable, element);\n",
              "          const docLink = document.createElement('div');\n",
              "          docLink.innerHTML = docLinkHtml;\n",
              "          element.appendChild(docLink);\n",
              "        }\n",
              "      </script>\n",
              "    </div>\n",
              "  </div>\n",
              "  "
            ]
          },
          "metadata": {},
          "execution_count": 4
        }
      ]
    },
    {
      "cell_type": "code",
      "source": [
        "df.shape"
      ],
      "metadata": {
        "colab": {
          "base_uri": "https://localhost:8080/"
        },
        "id": "J94qay9MikoH",
        "outputId": "b9389b95-866b-4992-edd0-e79dae18fd13"
      },
      "execution_count": 5,
      "outputs": [
        {
          "output_type": "execute_result",
          "data": {
            "text/plain": [
              "(9888, 10)"
            ]
          },
          "metadata": {},
          "execution_count": 5
        }
      ]
    },
    {
      "cell_type": "code",
      "source": [
        "df.info()"
      ],
      "metadata": {
        "colab": {
          "base_uri": "https://localhost:8080/"
        },
        "id": "BJq_McDdi6JT",
        "outputId": "6ec60309-d418-4e60-dd9a-e4108d4cdee6"
      },
      "execution_count": 6,
      "outputs": [
        {
          "output_type": "stream",
          "name": "stdout",
          "text": [
            "<class 'pandas.core.frame.DataFrame'>\n",
            "RangeIndex: 9888 entries, 0 to 9887\n",
            "Data columns (total 10 columns):\n",
            " #   Column                       Non-Null Count  Dtype  \n",
            "---  ------                       --------------  -----  \n",
            " 0   Price                        9888 non-null   object \n",
            " 1   Boat Type                    9888 non-null   object \n",
            " 2   Manufacturer                 8550 non-null   object \n",
            " 3   Type                         9882 non-null   object \n",
            " 4   Year Built                   9888 non-null   int64  \n",
            " 5   Length                       9879 non-null   float64\n",
            " 6   Width                        9832 non-null   float64\n",
            " 7   Material                     8139 non-null   object \n",
            " 8   Location                     9852 non-null   object \n",
            " 9   Number of views last 7 days  9888 non-null   int64  \n",
            "dtypes: float64(2), int64(2), object(6)\n",
            "memory usage: 772.6+ KB\n"
          ]
        }
      ]
    },
    {
      "cell_type": "code",
      "source": [
        "df.head(2)"
      ],
      "metadata": {
        "colab": {
          "base_uri": "https://localhost:8080/",
          "height": 208
        },
        "id": "l9Zs1HBnjV22",
        "outputId": "bc58e600-691c-404a-ad41-3d1a3897cd6e"
      },
      "execution_count": 7,
      "outputs": [
        {
          "output_type": "execute_result",
          "data": {
            "text/plain": [
              "      Price            Boat Type          Manufacturer                 Type  \\\n",
              "0  CHF 3337          Motor Yacht  Rigiflex power boats  new boat from stock   \n",
              "1  EUR 3490  Center console boat     Terhi power boats  new boat from stock   \n",
              "\n",
              "   Year Built  Length  Width       Material  \\\n",
              "0        2017     4.0    1.9            NaN   \n",
              "1        2020     4.0    1.5  Thermoplastic   \n",
              "\n",
              "                                 Location  Number of views last 7 days  \n",
              "0  Switzerland Â» Lake Geneva Â» VÃ©senaz                          226  \n",
              "1                Germany Â» BÃ¶nningstedt                           75  "
            ],
            "text/html": [
              "\n",
              "  <div id=\"df-7d8b9eca-8067-463a-ae73-b03061a46e4b\">\n",
              "    <div class=\"colab-df-container\">\n",
              "      <div>\n",
              "<style scoped>\n",
              "    .dataframe tbody tr th:only-of-type {\n",
              "        vertical-align: middle;\n",
              "    }\n",
              "\n",
              "    .dataframe tbody tr th {\n",
              "        vertical-align: top;\n",
              "    }\n",
              "\n",
              "    .dataframe thead th {\n",
              "        text-align: right;\n",
              "    }\n",
              "</style>\n",
              "<table border=\"1\" class=\"dataframe\">\n",
              "  <thead>\n",
              "    <tr style=\"text-align: right;\">\n",
              "      <th></th>\n",
              "      <th>Price</th>\n",
              "      <th>Boat Type</th>\n",
              "      <th>Manufacturer</th>\n",
              "      <th>Type</th>\n",
              "      <th>Year Built</th>\n",
              "      <th>Length</th>\n",
              "      <th>Width</th>\n",
              "      <th>Material</th>\n",
              "      <th>Location</th>\n",
              "      <th>Number of views last 7 days</th>\n",
              "    </tr>\n",
              "  </thead>\n",
              "  <tbody>\n",
              "    <tr>\n",
              "      <th>0</th>\n",
              "      <td>CHF 3337</td>\n",
              "      <td>Motor Yacht</td>\n",
              "      <td>Rigiflex power boats</td>\n",
              "      <td>new boat from stock</td>\n",
              "      <td>2017</td>\n",
              "      <td>4.0</td>\n",
              "      <td>1.9</td>\n",
              "      <td>NaN</td>\n",
              "      <td>Switzerland Â» Lake Geneva Â» VÃ©senaz</td>\n",
              "      <td>226</td>\n",
              "    </tr>\n",
              "    <tr>\n",
              "      <th>1</th>\n",
              "      <td>EUR 3490</td>\n",
              "      <td>Center console boat</td>\n",
              "      <td>Terhi power boats</td>\n",
              "      <td>new boat from stock</td>\n",
              "      <td>2020</td>\n",
              "      <td>4.0</td>\n",
              "      <td>1.5</td>\n",
              "      <td>Thermoplastic</td>\n",
              "      <td>Germany Â» BÃ¶nningstedt</td>\n",
              "      <td>75</td>\n",
              "    </tr>\n",
              "  </tbody>\n",
              "</table>\n",
              "</div>\n",
              "      <button class=\"colab-df-convert\" onclick=\"convertToInteractive('df-7d8b9eca-8067-463a-ae73-b03061a46e4b')\"\n",
              "              title=\"Convert this dataframe to an interactive table.\"\n",
              "              style=\"display:none;\">\n",
              "        \n",
              "  <svg xmlns=\"http://www.w3.org/2000/svg\" height=\"24px\"viewBox=\"0 0 24 24\"\n",
              "       width=\"24px\">\n",
              "    <path d=\"M0 0h24v24H0V0z\" fill=\"none\"/>\n",
              "    <path d=\"M18.56 5.44l.94 2.06.94-2.06 2.06-.94-2.06-.94-.94-2.06-.94 2.06-2.06.94zm-11 1L8.5 8.5l.94-2.06 2.06-.94-2.06-.94L8.5 2.5l-.94 2.06-2.06.94zm10 10l.94 2.06.94-2.06 2.06-.94-2.06-.94-.94-2.06-.94 2.06-2.06.94z\"/><path d=\"M17.41 7.96l-1.37-1.37c-.4-.4-.92-.59-1.43-.59-.52 0-1.04.2-1.43.59L10.3 9.45l-7.72 7.72c-.78.78-.78 2.05 0 2.83L4 21.41c.39.39.9.59 1.41.59.51 0 1.02-.2 1.41-.59l7.78-7.78 2.81-2.81c.8-.78.8-2.07 0-2.86zM5.41 20L4 18.59l7.72-7.72 1.47 1.35L5.41 20z\"/>\n",
              "  </svg>\n",
              "      </button>\n",
              "      \n",
              "  <style>\n",
              "    .colab-df-container {\n",
              "      display:flex;\n",
              "      flex-wrap:wrap;\n",
              "      gap: 12px;\n",
              "    }\n",
              "\n",
              "    .colab-df-convert {\n",
              "      background-color: #E8F0FE;\n",
              "      border: none;\n",
              "      border-radius: 50%;\n",
              "      cursor: pointer;\n",
              "      display: none;\n",
              "      fill: #1967D2;\n",
              "      height: 32px;\n",
              "      padding: 0 0 0 0;\n",
              "      width: 32px;\n",
              "    }\n",
              "\n",
              "    .colab-df-convert:hover {\n",
              "      background-color: #E2EBFA;\n",
              "      box-shadow: 0px 1px 2px rgba(60, 64, 67, 0.3), 0px 1px 3px 1px rgba(60, 64, 67, 0.15);\n",
              "      fill: #174EA6;\n",
              "    }\n",
              "\n",
              "    [theme=dark] .colab-df-convert {\n",
              "      background-color: #3B4455;\n",
              "      fill: #D2E3FC;\n",
              "    }\n",
              "\n",
              "    [theme=dark] .colab-df-convert:hover {\n",
              "      background-color: #434B5C;\n",
              "      box-shadow: 0px 1px 3px 1px rgba(0, 0, 0, 0.15);\n",
              "      filter: drop-shadow(0px 1px 2px rgba(0, 0, 0, 0.3));\n",
              "      fill: #FFFFFF;\n",
              "    }\n",
              "  </style>\n",
              "\n",
              "      <script>\n",
              "        const buttonEl =\n",
              "          document.querySelector('#df-7d8b9eca-8067-463a-ae73-b03061a46e4b button.colab-df-convert');\n",
              "        buttonEl.style.display =\n",
              "          google.colab.kernel.accessAllowed ? 'block' : 'none';\n",
              "\n",
              "        async function convertToInteractive(key) {\n",
              "          const element = document.querySelector('#df-7d8b9eca-8067-463a-ae73-b03061a46e4b');\n",
              "          const dataTable =\n",
              "            await google.colab.kernel.invokeFunction('convertToInteractive',\n",
              "                                                     [key], {});\n",
              "          if (!dataTable) return;\n",
              "\n",
              "          const docLinkHtml = 'Like what you see? Visit the ' +\n",
              "            '<a target=\"_blank\" href=https://colab.research.google.com/notebooks/data_table.ipynb>data table notebook</a>'\n",
              "            + ' to learn more about interactive tables.';\n",
              "          element.innerHTML = '';\n",
              "          dataTable['output_type'] = 'display_data';\n",
              "          await google.colab.output.renderOutput(dataTable, element);\n",
              "          const docLink = document.createElement('div');\n",
              "          docLink.innerHTML = docLinkHtml;\n",
              "          element.appendChild(docLink);\n",
              "        }\n",
              "      </script>\n",
              "    </div>\n",
              "  </div>\n",
              "  "
            ]
          },
          "metadata": {},
          "execution_count": 7
        }
      ]
    },
    {
      "cell_type": "code",
      "source": [
        "df[['currency','price1']]=df['Price'].str.split(' ',1, expand = True)"
      ],
      "metadata": {
        "colab": {
          "base_uri": "https://localhost:8080/"
        },
        "id": "w0zJMJBUppHR",
        "outputId": "2e24d07e-9dd9-4f0a-8b9d-ffacb251e14d"
      },
      "execution_count": 8,
      "outputs": [
        {
          "output_type": "stream",
          "name": "stderr",
          "text": [
            "<ipython-input-8-83d2d98116c1>:1: FutureWarning: In a future version of pandas all arguments of StringMethods.split except for the argument 'pat' will be keyword-only.\n",
            "  df[['currency','price1']]=df['Price'].str.split(' ',1, expand = True)\n"
          ]
        }
      ]
    },
    {
      "cell_type": "code",
      "source": [
        "df['currency']"
      ],
      "metadata": {
        "colab": {
          "base_uri": "https://localhost:8080/"
        },
        "id": "PFFaJq1yp479",
        "outputId": "bcad68c4-6cda-4a93-ca0c-3969bdbb76f0"
      },
      "execution_count": 9,
      "outputs": [
        {
          "output_type": "execute_result",
          "data": {
            "text/plain": [
              "0       CHF\n",
              "1       EUR\n",
              "2       CHF\n",
              "3       DKK\n",
              "4       EUR\n",
              "       ... \n",
              "9883    CHF\n",
              "9884    EUR\n",
              "9885    EUR\n",
              "9886    EUR\n",
              "9887    CHF\n",
              "Name: currency, Length: 9888, dtype: object"
            ]
          },
          "metadata": {},
          "execution_count": 9
        }
      ]
    },
    {
      "cell_type": "code",
      "source": [
        "df['price1']"
      ],
      "metadata": {
        "colab": {
          "base_uri": "https://localhost:8080/"
        },
        "id": "XrOIFt3AqpKe",
        "outputId": "f69d2a70-8f41-463a-d02e-d311c86b60ac"
      },
      "execution_count": 10,
      "outputs": [
        {
          "output_type": "execute_result",
          "data": {
            "text/plain": [
              "0        3337\n",
              "1        3490\n",
              "2        3770\n",
              "3       25900\n",
              "4        3399\n",
              "        ...  \n",
              "9883     4900\n",
              "9884     4516\n",
              "9885     4499\n",
              "9886     4300\n",
              "9887     3780\n",
              "Name: price1, Length: 9888, dtype: object"
            ]
          },
          "metadata": {},
          "execution_count": 10
        }
      ]
    },
    {
      "cell_type": "code",
      "source": [
        "df['price1'].astype(int)"
      ],
      "metadata": {
        "colab": {
          "base_uri": "https://localhost:8080/"
        },
        "id": "egfpHwFZq3YF",
        "outputId": "4e937c75-224b-4121-802f-0509fd792212"
      },
      "execution_count": 11,
      "outputs": [
        {
          "output_type": "execute_result",
          "data": {
            "text/plain": [
              "0        3337\n",
              "1        3490\n",
              "2        3770\n",
              "3       25900\n",
              "4        3399\n",
              "        ...  \n",
              "9883     4900\n",
              "9884     4516\n",
              "9885     4499\n",
              "9886     4300\n",
              "9887     3780\n",
              "Name: price1, Length: 9888, dtype: int64"
            ]
          },
          "metadata": {},
          "execution_count": 11
        }
      ]
    },
    {
      "cell_type": "code",
      "source": [
        "df['currency'].unique()"
      ],
      "metadata": {
        "colab": {
          "base_uri": "https://localhost:8080/"
        },
        "id": "Zoi7PzxIvV2p",
        "outputId": "9aad35b6-11da-4231-d887-5ec8dd2e9fc0"
      },
      "execution_count": 12,
      "outputs": [
        {
          "output_type": "execute_result",
          "data": {
            "text/plain": [
              "array(['CHF', 'EUR', 'DKK', 'Â£'], dtype=object)"
            ]
          },
          "metadata": {},
          "execution_count": 12
        }
      ]
    },
    {
      "cell_type": "code",
      "source": [
        "def price_USD(price, currency):\n",
        "  if currency == 'CHF':\n",
        "    return int(price)*1.12\n",
        "  elif currency == 'EUR':\n",
        "    return int(price)*1.10\n",
        "  elif currency == 'DKK':\n",
        "    return int(price)*0.15\n",
        "  elif currency == 'Â£':\n",
        "    return int(price)*1.25"
      ],
      "metadata": {
        "id": "3paD0Kv8vHWr"
      },
      "execution_count": 13,
      "outputs": []
    },
    {
      "cell_type": "code",
      "source": [
        "df['Price_$'] = df.apply(lambda x : price_USD(x.price1, x.currency), axis=1)"
      ],
      "metadata": {
        "id": "c7pkHUu4wRgL"
      },
      "execution_count": 14,
      "outputs": []
    },
    {
      "cell_type": "code",
      "source": [
        "df.head()"
      ],
      "metadata": {
        "colab": {
          "base_uri": "https://localhost:8080/",
          "height": 545
        },
        "id": "_Fmk5pVvxBcl",
        "outputId": "2aa6bdfd-0dd2-48cc-94d6-b919f0fa2c50"
      },
      "execution_count": 15,
      "outputs": [
        {
          "output_type": "execute_result",
          "data": {
            "text/plain": [
              "       Price            Boat Type          Manufacturer                 Type  \\\n",
              "0   CHF 3337          Motor Yacht  Rigiflex power boats  new boat from stock   \n",
              "1   EUR 3490  Center console boat     Terhi power boats  new boat from stock   \n",
              "2   CHF 3770           Sport Boat    Marine power boats  new boat from stock   \n",
              "3  DKK 25900           Sport Boat    Pioner power boats  new boat from stock   \n",
              "4   EUR 3399         Fishing Boat    Linder power boats  new boat from stock   \n",
              "\n",
              "   Year Built  Length  Width       Material  \\\n",
              "0        2017    4.00   1.90            NaN   \n",
              "1        2020    4.00   1.50  Thermoplastic   \n",
              "2           0    3.69   1.42      Aluminium   \n",
              "3        2020    3.00   1.00            NaN   \n",
              "4        2019    3.55   1.46      Aluminium   \n",
              "\n",
              "                                     Location  Number of views last 7 days  \\\n",
              "0      Switzerland Â» Lake Geneva Â» VÃ©senaz                          226   \n",
              "1                    Germany Â» BÃ¶nningstedt                           75   \n",
              "2  Switzerland Â» Lake of Zurich Â» StÃ¤fa ZH                          124   \n",
              "3                        Denmark Â» Svendborg                           64   \n",
              "4               Germany Â» Bayern Â» MÃ¼nchen                           58   \n",
              "\n",
              "  currency price1  Price_$  \n",
              "0      CHF   3337  3737.44  \n",
              "1      EUR   3490  3839.00  \n",
              "2      CHF   3770  4222.40  \n",
              "3      DKK  25900  3885.00  \n",
              "4      EUR   3399  3738.90  "
            ],
            "text/html": [
              "\n",
              "  <div id=\"df-5bf8ce3e-1880-40f9-89b1-51b2a2566141\">\n",
              "    <div class=\"colab-df-container\">\n",
              "      <div>\n",
              "<style scoped>\n",
              "    .dataframe tbody tr th:only-of-type {\n",
              "        vertical-align: middle;\n",
              "    }\n",
              "\n",
              "    .dataframe tbody tr th {\n",
              "        vertical-align: top;\n",
              "    }\n",
              "\n",
              "    .dataframe thead th {\n",
              "        text-align: right;\n",
              "    }\n",
              "</style>\n",
              "<table border=\"1\" class=\"dataframe\">\n",
              "  <thead>\n",
              "    <tr style=\"text-align: right;\">\n",
              "      <th></th>\n",
              "      <th>Price</th>\n",
              "      <th>Boat Type</th>\n",
              "      <th>Manufacturer</th>\n",
              "      <th>Type</th>\n",
              "      <th>Year Built</th>\n",
              "      <th>Length</th>\n",
              "      <th>Width</th>\n",
              "      <th>Material</th>\n",
              "      <th>Location</th>\n",
              "      <th>Number of views last 7 days</th>\n",
              "      <th>currency</th>\n",
              "      <th>price1</th>\n",
              "      <th>Price_$</th>\n",
              "    </tr>\n",
              "  </thead>\n",
              "  <tbody>\n",
              "    <tr>\n",
              "      <th>0</th>\n",
              "      <td>CHF 3337</td>\n",
              "      <td>Motor Yacht</td>\n",
              "      <td>Rigiflex power boats</td>\n",
              "      <td>new boat from stock</td>\n",
              "      <td>2017</td>\n",
              "      <td>4.00</td>\n",
              "      <td>1.90</td>\n",
              "      <td>NaN</td>\n",
              "      <td>Switzerland Â» Lake Geneva Â» VÃ©senaz</td>\n",
              "      <td>226</td>\n",
              "      <td>CHF</td>\n",
              "      <td>3337</td>\n",
              "      <td>3737.44</td>\n",
              "    </tr>\n",
              "    <tr>\n",
              "      <th>1</th>\n",
              "      <td>EUR 3490</td>\n",
              "      <td>Center console boat</td>\n",
              "      <td>Terhi power boats</td>\n",
              "      <td>new boat from stock</td>\n",
              "      <td>2020</td>\n",
              "      <td>4.00</td>\n",
              "      <td>1.50</td>\n",
              "      <td>Thermoplastic</td>\n",
              "      <td>Germany Â» BÃ¶nningstedt</td>\n",
              "      <td>75</td>\n",
              "      <td>EUR</td>\n",
              "      <td>3490</td>\n",
              "      <td>3839.00</td>\n",
              "    </tr>\n",
              "    <tr>\n",
              "      <th>2</th>\n",
              "      <td>CHF 3770</td>\n",
              "      <td>Sport Boat</td>\n",
              "      <td>Marine power boats</td>\n",
              "      <td>new boat from stock</td>\n",
              "      <td>0</td>\n",
              "      <td>3.69</td>\n",
              "      <td>1.42</td>\n",
              "      <td>Aluminium</td>\n",
              "      <td>Switzerland Â» Lake of Zurich Â» StÃ¤fa ZH</td>\n",
              "      <td>124</td>\n",
              "      <td>CHF</td>\n",
              "      <td>3770</td>\n",
              "      <td>4222.40</td>\n",
              "    </tr>\n",
              "    <tr>\n",
              "      <th>3</th>\n",
              "      <td>DKK 25900</td>\n",
              "      <td>Sport Boat</td>\n",
              "      <td>Pioner power boats</td>\n",
              "      <td>new boat from stock</td>\n",
              "      <td>2020</td>\n",
              "      <td>3.00</td>\n",
              "      <td>1.00</td>\n",
              "      <td>NaN</td>\n",
              "      <td>Denmark Â» Svendborg</td>\n",
              "      <td>64</td>\n",
              "      <td>DKK</td>\n",
              "      <td>25900</td>\n",
              "      <td>3885.00</td>\n",
              "    </tr>\n",
              "    <tr>\n",
              "      <th>4</th>\n",
              "      <td>EUR 3399</td>\n",
              "      <td>Fishing Boat</td>\n",
              "      <td>Linder power boats</td>\n",
              "      <td>new boat from stock</td>\n",
              "      <td>2019</td>\n",
              "      <td>3.55</td>\n",
              "      <td>1.46</td>\n",
              "      <td>Aluminium</td>\n",
              "      <td>Germany Â» Bayern Â» MÃ¼nchen</td>\n",
              "      <td>58</td>\n",
              "      <td>EUR</td>\n",
              "      <td>3399</td>\n",
              "      <td>3738.90</td>\n",
              "    </tr>\n",
              "  </tbody>\n",
              "</table>\n",
              "</div>\n",
              "      <button class=\"colab-df-convert\" onclick=\"convertToInteractive('df-5bf8ce3e-1880-40f9-89b1-51b2a2566141')\"\n",
              "              title=\"Convert this dataframe to an interactive table.\"\n",
              "              style=\"display:none;\">\n",
              "        \n",
              "  <svg xmlns=\"http://www.w3.org/2000/svg\" height=\"24px\"viewBox=\"0 0 24 24\"\n",
              "       width=\"24px\">\n",
              "    <path d=\"M0 0h24v24H0V0z\" fill=\"none\"/>\n",
              "    <path d=\"M18.56 5.44l.94 2.06.94-2.06 2.06-.94-2.06-.94-.94-2.06-.94 2.06-2.06.94zm-11 1L8.5 8.5l.94-2.06 2.06-.94-2.06-.94L8.5 2.5l-.94 2.06-2.06.94zm10 10l.94 2.06.94-2.06 2.06-.94-2.06-.94-.94-2.06-.94 2.06-2.06.94z\"/><path d=\"M17.41 7.96l-1.37-1.37c-.4-.4-.92-.59-1.43-.59-.52 0-1.04.2-1.43.59L10.3 9.45l-7.72 7.72c-.78.78-.78 2.05 0 2.83L4 21.41c.39.39.9.59 1.41.59.51 0 1.02-.2 1.41-.59l7.78-7.78 2.81-2.81c.8-.78.8-2.07 0-2.86zM5.41 20L4 18.59l7.72-7.72 1.47 1.35L5.41 20z\"/>\n",
              "  </svg>\n",
              "      </button>\n",
              "      \n",
              "  <style>\n",
              "    .colab-df-container {\n",
              "      display:flex;\n",
              "      flex-wrap:wrap;\n",
              "      gap: 12px;\n",
              "    }\n",
              "\n",
              "    .colab-df-convert {\n",
              "      background-color: #E8F0FE;\n",
              "      border: none;\n",
              "      border-radius: 50%;\n",
              "      cursor: pointer;\n",
              "      display: none;\n",
              "      fill: #1967D2;\n",
              "      height: 32px;\n",
              "      padding: 0 0 0 0;\n",
              "      width: 32px;\n",
              "    }\n",
              "\n",
              "    .colab-df-convert:hover {\n",
              "      background-color: #E2EBFA;\n",
              "      box-shadow: 0px 1px 2px rgba(60, 64, 67, 0.3), 0px 1px 3px 1px rgba(60, 64, 67, 0.15);\n",
              "      fill: #174EA6;\n",
              "    }\n",
              "\n",
              "    [theme=dark] .colab-df-convert {\n",
              "      background-color: #3B4455;\n",
              "      fill: #D2E3FC;\n",
              "    }\n",
              "\n",
              "    [theme=dark] .colab-df-convert:hover {\n",
              "      background-color: #434B5C;\n",
              "      box-shadow: 0px 1px 3px 1px rgba(0, 0, 0, 0.15);\n",
              "      filter: drop-shadow(0px 1px 2px rgba(0, 0, 0, 0.3));\n",
              "      fill: #FFFFFF;\n",
              "    }\n",
              "  </style>\n",
              "\n",
              "      <script>\n",
              "        const buttonEl =\n",
              "          document.querySelector('#df-5bf8ce3e-1880-40f9-89b1-51b2a2566141 button.colab-df-convert');\n",
              "        buttonEl.style.display =\n",
              "          google.colab.kernel.accessAllowed ? 'block' : 'none';\n",
              "\n",
              "        async function convertToInteractive(key) {\n",
              "          const element = document.querySelector('#df-5bf8ce3e-1880-40f9-89b1-51b2a2566141');\n",
              "          const dataTable =\n",
              "            await google.colab.kernel.invokeFunction('convertToInteractive',\n",
              "                                                     [key], {});\n",
              "          if (!dataTable) return;\n",
              "\n",
              "          const docLinkHtml = 'Like what you see? Visit the ' +\n",
              "            '<a target=\"_blank\" href=https://colab.research.google.com/notebooks/data_table.ipynb>data table notebook</a>'\n",
              "            + ' to learn more about interactive tables.';\n",
              "          element.innerHTML = '';\n",
              "          dataTable['output_type'] = 'display_data';\n",
              "          await google.colab.output.renderOutput(dataTable, element);\n",
              "          const docLink = document.createElement('div');\n",
              "          docLink.innerHTML = docLinkHtml;\n",
              "          element.appendChild(docLink);\n",
              "        }\n",
              "      </script>\n",
              "    </div>\n",
              "  </div>\n",
              "  "
            ]
          },
          "metadata": {},
          "execution_count": 15
        }
      ]
    },
    {
      "cell_type": "code",
      "source": [
        "df.drop(['Price', 'currency','price1'], axis=1, inplace = True)"
      ],
      "metadata": {
        "id": "MflyKjlGyueZ"
      },
      "execution_count": 16,
      "outputs": []
    },
    {
      "cell_type": "code",
      "source": [
        "df.head()"
      ],
      "metadata": {
        "colab": {
          "base_uri": "https://localhost:8080/",
          "height": 354
        },
        "id": "hfMOH9PWzENP",
        "outputId": "4bc84eb5-4d22-464d-a41b-b5c81fcc423d"
      },
      "execution_count": 17,
      "outputs": [
        {
          "output_type": "execute_result",
          "data": {
            "text/plain": [
              "             Boat Type          Manufacturer                 Type  Year Built  \\\n",
              "0          Motor Yacht  Rigiflex power boats  new boat from stock        2017   \n",
              "1  Center console boat     Terhi power boats  new boat from stock        2020   \n",
              "2           Sport Boat    Marine power boats  new boat from stock           0   \n",
              "3           Sport Boat    Pioner power boats  new boat from stock        2020   \n",
              "4         Fishing Boat    Linder power boats  new boat from stock        2019   \n",
              "\n",
              "   Length  Width       Material                                    Location  \\\n",
              "0    4.00   1.90            NaN      Switzerland Â» Lake Geneva Â» VÃ©senaz   \n",
              "1    4.00   1.50  Thermoplastic                    Germany Â» BÃ¶nningstedt   \n",
              "2    3.69   1.42      Aluminium  Switzerland Â» Lake of Zurich Â» StÃ¤fa ZH   \n",
              "3    3.00   1.00            NaN                        Denmark Â» Svendborg   \n",
              "4    3.55   1.46      Aluminium               Germany Â» Bayern Â» MÃ¼nchen   \n",
              "\n",
              "   Number of views last 7 days  Price_$  \n",
              "0                          226  3737.44  \n",
              "1                           75  3839.00  \n",
              "2                          124  4222.40  \n",
              "3                           64  3885.00  \n",
              "4                           58  3738.90  "
            ],
            "text/html": [
              "\n",
              "  <div id=\"df-ac79e511-e72e-4110-b9f0-2efc9a46538b\">\n",
              "    <div class=\"colab-df-container\">\n",
              "      <div>\n",
              "<style scoped>\n",
              "    .dataframe tbody tr th:only-of-type {\n",
              "        vertical-align: middle;\n",
              "    }\n",
              "\n",
              "    .dataframe tbody tr th {\n",
              "        vertical-align: top;\n",
              "    }\n",
              "\n",
              "    .dataframe thead th {\n",
              "        text-align: right;\n",
              "    }\n",
              "</style>\n",
              "<table border=\"1\" class=\"dataframe\">\n",
              "  <thead>\n",
              "    <tr style=\"text-align: right;\">\n",
              "      <th></th>\n",
              "      <th>Boat Type</th>\n",
              "      <th>Manufacturer</th>\n",
              "      <th>Type</th>\n",
              "      <th>Year Built</th>\n",
              "      <th>Length</th>\n",
              "      <th>Width</th>\n",
              "      <th>Material</th>\n",
              "      <th>Location</th>\n",
              "      <th>Number of views last 7 days</th>\n",
              "      <th>Price_$</th>\n",
              "    </tr>\n",
              "  </thead>\n",
              "  <tbody>\n",
              "    <tr>\n",
              "      <th>0</th>\n",
              "      <td>Motor Yacht</td>\n",
              "      <td>Rigiflex power boats</td>\n",
              "      <td>new boat from stock</td>\n",
              "      <td>2017</td>\n",
              "      <td>4.00</td>\n",
              "      <td>1.90</td>\n",
              "      <td>NaN</td>\n",
              "      <td>Switzerland Â» Lake Geneva Â» VÃ©senaz</td>\n",
              "      <td>226</td>\n",
              "      <td>3737.44</td>\n",
              "    </tr>\n",
              "    <tr>\n",
              "      <th>1</th>\n",
              "      <td>Center console boat</td>\n",
              "      <td>Terhi power boats</td>\n",
              "      <td>new boat from stock</td>\n",
              "      <td>2020</td>\n",
              "      <td>4.00</td>\n",
              "      <td>1.50</td>\n",
              "      <td>Thermoplastic</td>\n",
              "      <td>Germany Â» BÃ¶nningstedt</td>\n",
              "      <td>75</td>\n",
              "      <td>3839.00</td>\n",
              "    </tr>\n",
              "    <tr>\n",
              "      <th>2</th>\n",
              "      <td>Sport Boat</td>\n",
              "      <td>Marine power boats</td>\n",
              "      <td>new boat from stock</td>\n",
              "      <td>0</td>\n",
              "      <td>3.69</td>\n",
              "      <td>1.42</td>\n",
              "      <td>Aluminium</td>\n",
              "      <td>Switzerland Â» Lake of Zurich Â» StÃ¤fa ZH</td>\n",
              "      <td>124</td>\n",
              "      <td>4222.40</td>\n",
              "    </tr>\n",
              "    <tr>\n",
              "      <th>3</th>\n",
              "      <td>Sport Boat</td>\n",
              "      <td>Pioner power boats</td>\n",
              "      <td>new boat from stock</td>\n",
              "      <td>2020</td>\n",
              "      <td>3.00</td>\n",
              "      <td>1.00</td>\n",
              "      <td>NaN</td>\n",
              "      <td>Denmark Â» Svendborg</td>\n",
              "      <td>64</td>\n",
              "      <td>3885.00</td>\n",
              "    </tr>\n",
              "    <tr>\n",
              "      <th>4</th>\n",
              "      <td>Fishing Boat</td>\n",
              "      <td>Linder power boats</td>\n",
              "      <td>new boat from stock</td>\n",
              "      <td>2019</td>\n",
              "      <td>3.55</td>\n",
              "      <td>1.46</td>\n",
              "      <td>Aluminium</td>\n",
              "      <td>Germany Â» Bayern Â» MÃ¼nchen</td>\n",
              "      <td>58</td>\n",
              "      <td>3738.90</td>\n",
              "    </tr>\n",
              "  </tbody>\n",
              "</table>\n",
              "</div>\n",
              "      <button class=\"colab-df-convert\" onclick=\"convertToInteractive('df-ac79e511-e72e-4110-b9f0-2efc9a46538b')\"\n",
              "              title=\"Convert this dataframe to an interactive table.\"\n",
              "              style=\"display:none;\">\n",
              "        \n",
              "  <svg xmlns=\"http://www.w3.org/2000/svg\" height=\"24px\"viewBox=\"0 0 24 24\"\n",
              "       width=\"24px\">\n",
              "    <path d=\"M0 0h24v24H0V0z\" fill=\"none\"/>\n",
              "    <path d=\"M18.56 5.44l.94 2.06.94-2.06 2.06-.94-2.06-.94-.94-2.06-.94 2.06-2.06.94zm-11 1L8.5 8.5l.94-2.06 2.06-.94-2.06-.94L8.5 2.5l-.94 2.06-2.06.94zm10 10l.94 2.06.94-2.06 2.06-.94-2.06-.94-.94-2.06-.94 2.06-2.06.94z\"/><path d=\"M17.41 7.96l-1.37-1.37c-.4-.4-.92-.59-1.43-.59-.52 0-1.04.2-1.43.59L10.3 9.45l-7.72 7.72c-.78.78-.78 2.05 0 2.83L4 21.41c.39.39.9.59 1.41.59.51 0 1.02-.2 1.41-.59l7.78-7.78 2.81-2.81c.8-.78.8-2.07 0-2.86zM5.41 20L4 18.59l7.72-7.72 1.47 1.35L5.41 20z\"/>\n",
              "  </svg>\n",
              "      </button>\n",
              "      \n",
              "  <style>\n",
              "    .colab-df-container {\n",
              "      display:flex;\n",
              "      flex-wrap:wrap;\n",
              "      gap: 12px;\n",
              "    }\n",
              "\n",
              "    .colab-df-convert {\n",
              "      background-color: #E8F0FE;\n",
              "      border: none;\n",
              "      border-radius: 50%;\n",
              "      cursor: pointer;\n",
              "      display: none;\n",
              "      fill: #1967D2;\n",
              "      height: 32px;\n",
              "      padding: 0 0 0 0;\n",
              "      width: 32px;\n",
              "    }\n",
              "\n",
              "    .colab-df-convert:hover {\n",
              "      background-color: #E2EBFA;\n",
              "      box-shadow: 0px 1px 2px rgba(60, 64, 67, 0.3), 0px 1px 3px 1px rgba(60, 64, 67, 0.15);\n",
              "      fill: #174EA6;\n",
              "    }\n",
              "\n",
              "    [theme=dark] .colab-df-convert {\n",
              "      background-color: #3B4455;\n",
              "      fill: #D2E3FC;\n",
              "    }\n",
              "\n",
              "    [theme=dark] .colab-df-convert:hover {\n",
              "      background-color: #434B5C;\n",
              "      box-shadow: 0px 1px 3px 1px rgba(0, 0, 0, 0.15);\n",
              "      filter: drop-shadow(0px 1px 2px rgba(0, 0, 0, 0.3));\n",
              "      fill: #FFFFFF;\n",
              "    }\n",
              "  </style>\n",
              "\n",
              "      <script>\n",
              "        const buttonEl =\n",
              "          document.querySelector('#df-ac79e511-e72e-4110-b9f0-2efc9a46538b button.colab-df-convert');\n",
              "        buttonEl.style.display =\n",
              "          google.colab.kernel.accessAllowed ? 'block' : 'none';\n",
              "\n",
              "        async function convertToInteractive(key) {\n",
              "          const element = document.querySelector('#df-ac79e511-e72e-4110-b9f0-2efc9a46538b');\n",
              "          const dataTable =\n",
              "            await google.colab.kernel.invokeFunction('convertToInteractive',\n",
              "                                                     [key], {});\n",
              "          if (!dataTable) return;\n",
              "\n",
              "          const docLinkHtml = 'Like what you see? Visit the ' +\n",
              "            '<a target=\"_blank\" href=https://colab.research.google.com/notebooks/data_table.ipynb>data table notebook</a>'\n",
              "            + ' to learn more about interactive tables.';\n",
              "          element.innerHTML = '';\n",
              "          dataTable['output_type'] = 'display_data';\n",
              "          await google.colab.output.renderOutput(dataTable, element);\n",
              "          const docLink = document.createElement('div');\n",
              "          docLink.innerHTML = docLinkHtml;\n",
              "          element.appendChild(docLink);\n",
              "        }\n",
              "      </script>\n",
              "    </div>\n",
              "  </div>\n",
              "  "
            ]
          },
          "metadata": {},
          "execution_count": 17
        }
      ]
    },
    {
      "cell_type": "code",
      "source": [
        "df.info()"
      ],
      "metadata": {
        "colab": {
          "base_uri": "https://localhost:8080/"
        },
        "id": "KtWPuBMK01Vl",
        "outputId": "d003458a-98b0-497e-d45f-9b513480b37b"
      },
      "execution_count": 18,
      "outputs": [
        {
          "output_type": "stream",
          "name": "stdout",
          "text": [
            "<class 'pandas.core.frame.DataFrame'>\n",
            "RangeIndex: 9888 entries, 0 to 9887\n",
            "Data columns (total 10 columns):\n",
            " #   Column                       Non-Null Count  Dtype  \n",
            "---  ------                       --------------  -----  \n",
            " 0   Boat Type                    9888 non-null   object \n",
            " 1   Manufacturer                 8550 non-null   object \n",
            " 2   Type                         9882 non-null   object \n",
            " 3   Year Built                   9888 non-null   int64  \n",
            " 4   Length                       9879 non-null   float64\n",
            " 5   Width                        9832 non-null   float64\n",
            " 6   Material                     8139 non-null   object \n",
            " 7   Location                     9852 non-null   object \n",
            " 8   Number of views last 7 days  9888 non-null   int64  \n",
            " 9   Price_$                      9888 non-null   float64\n",
            "dtypes: float64(3), int64(2), object(5)\n",
            "memory usage: 772.6+ KB\n"
          ]
        }
      ]
    },
    {
      "cell_type": "code",
      "source": [
        "df.isna().sum()"
      ],
      "metadata": {
        "colab": {
          "base_uri": "https://localhost:8080/"
        },
        "id": "WycJOszJ1Bn-",
        "outputId": "93f43fbc-c894-4973-f6e0-163b03a8e1d9"
      },
      "execution_count": 19,
      "outputs": [
        {
          "output_type": "execute_result",
          "data": {
            "text/plain": [
              "Boat Type                         0\n",
              "Manufacturer                   1338\n",
              "Type                              6\n",
              "Year Built                        0\n",
              "Length                            9\n",
              "Width                            56\n",
              "Material                       1749\n",
              "Location                         36\n",
              "Number of views last 7 days       0\n",
              "Price_$                           0\n",
              "dtype: int64"
            ]
          },
          "metadata": {},
          "execution_count": 19
        }
      ]
    },
    {
      "cell_type": "code",
      "source": [
        "df.dropna(inplace=True)"
      ],
      "metadata": {
        "id": "0gVG5SxO1G6P"
      },
      "execution_count": 20,
      "outputs": []
    },
    {
      "cell_type": "code",
      "source": [
        "df.isna().sum()"
      ],
      "metadata": {
        "colab": {
          "base_uri": "https://localhost:8080/"
        },
        "id": "OI8y4VDx1MwI",
        "outputId": "01acbb44-2dbc-4749-a470-0f3057671d38"
      },
      "execution_count": 21,
      "outputs": [
        {
          "output_type": "execute_result",
          "data": {
            "text/plain": [
              "Boat Type                      0\n",
              "Manufacturer                   0\n",
              "Type                           0\n",
              "Year Built                     0\n",
              "Length                         0\n",
              "Width                          0\n",
              "Material                       0\n",
              "Location                       0\n",
              "Number of views last 7 days    0\n",
              "Price_$                        0\n",
              "dtype: int64"
            ]
          },
          "metadata": {},
          "execution_count": 21
        }
      ]
    },
    {
      "cell_type": "code",
      "source": [
        "data_int = df.select_dtypes('int')\n",
        "data_int.head()"
      ],
      "metadata": {
        "colab": {
          "base_uri": "https://localhost:8080/",
          "height": 206
        },
        "id": "oltiLTW_zNiP",
        "outputId": "eaebfddc-fff4-4560-c244-da3ef373cd9c"
      },
      "execution_count": 22,
      "outputs": [
        {
          "output_type": "execute_result",
          "data": {
            "text/plain": [
              "    Year Built  Number of views last 7 days\n",
              "1         2020                           75\n",
              "2            0                          124\n",
              "4         2019                           58\n",
              "5            0                          132\n",
              "10        1987                          239"
            ],
            "text/html": [
              "\n",
              "  <div id=\"df-cbaadccb-dd7d-4b21-b13b-ac6b3513c3a0\">\n",
              "    <div class=\"colab-df-container\">\n",
              "      <div>\n",
              "<style scoped>\n",
              "    .dataframe tbody tr th:only-of-type {\n",
              "        vertical-align: middle;\n",
              "    }\n",
              "\n",
              "    .dataframe tbody tr th {\n",
              "        vertical-align: top;\n",
              "    }\n",
              "\n",
              "    .dataframe thead th {\n",
              "        text-align: right;\n",
              "    }\n",
              "</style>\n",
              "<table border=\"1\" class=\"dataframe\">\n",
              "  <thead>\n",
              "    <tr style=\"text-align: right;\">\n",
              "      <th></th>\n",
              "      <th>Year Built</th>\n",
              "      <th>Number of views last 7 days</th>\n",
              "    </tr>\n",
              "  </thead>\n",
              "  <tbody>\n",
              "    <tr>\n",
              "      <th>1</th>\n",
              "      <td>2020</td>\n",
              "      <td>75</td>\n",
              "    </tr>\n",
              "    <tr>\n",
              "      <th>2</th>\n",
              "      <td>0</td>\n",
              "      <td>124</td>\n",
              "    </tr>\n",
              "    <tr>\n",
              "      <th>4</th>\n",
              "      <td>2019</td>\n",
              "      <td>58</td>\n",
              "    </tr>\n",
              "    <tr>\n",
              "      <th>5</th>\n",
              "      <td>0</td>\n",
              "      <td>132</td>\n",
              "    </tr>\n",
              "    <tr>\n",
              "      <th>10</th>\n",
              "      <td>1987</td>\n",
              "      <td>239</td>\n",
              "    </tr>\n",
              "  </tbody>\n",
              "</table>\n",
              "</div>\n",
              "      <button class=\"colab-df-convert\" onclick=\"convertToInteractive('df-cbaadccb-dd7d-4b21-b13b-ac6b3513c3a0')\"\n",
              "              title=\"Convert this dataframe to an interactive table.\"\n",
              "              style=\"display:none;\">\n",
              "        \n",
              "  <svg xmlns=\"http://www.w3.org/2000/svg\" height=\"24px\"viewBox=\"0 0 24 24\"\n",
              "       width=\"24px\">\n",
              "    <path d=\"M0 0h24v24H0V0z\" fill=\"none\"/>\n",
              "    <path d=\"M18.56 5.44l.94 2.06.94-2.06 2.06-.94-2.06-.94-.94-2.06-.94 2.06-2.06.94zm-11 1L8.5 8.5l.94-2.06 2.06-.94-2.06-.94L8.5 2.5l-.94 2.06-2.06.94zm10 10l.94 2.06.94-2.06 2.06-.94-2.06-.94-.94-2.06-.94 2.06-2.06.94z\"/><path d=\"M17.41 7.96l-1.37-1.37c-.4-.4-.92-.59-1.43-.59-.52 0-1.04.2-1.43.59L10.3 9.45l-7.72 7.72c-.78.78-.78 2.05 0 2.83L4 21.41c.39.39.9.59 1.41.59.51 0 1.02-.2 1.41-.59l7.78-7.78 2.81-2.81c.8-.78.8-2.07 0-2.86zM5.41 20L4 18.59l7.72-7.72 1.47 1.35L5.41 20z\"/>\n",
              "  </svg>\n",
              "      </button>\n",
              "      \n",
              "  <style>\n",
              "    .colab-df-container {\n",
              "      display:flex;\n",
              "      flex-wrap:wrap;\n",
              "      gap: 12px;\n",
              "    }\n",
              "\n",
              "    .colab-df-convert {\n",
              "      background-color: #E8F0FE;\n",
              "      border: none;\n",
              "      border-radius: 50%;\n",
              "      cursor: pointer;\n",
              "      display: none;\n",
              "      fill: #1967D2;\n",
              "      height: 32px;\n",
              "      padding: 0 0 0 0;\n",
              "      width: 32px;\n",
              "    }\n",
              "\n",
              "    .colab-df-convert:hover {\n",
              "      background-color: #E2EBFA;\n",
              "      box-shadow: 0px 1px 2px rgba(60, 64, 67, 0.3), 0px 1px 3px 1px rgba(60, 64, 67, 0.15);\n",
              "      fill: #174EA6;\n",
              "    }\n",
              "\n",
              "    [theme=dark] .colab-df-convert {\n",
              "      background-color: #3B4455;\n",
              "      fill: #D2E3FC;\n",
              "    }\n",
              "\n",
              "    [theme=dark] .colab-df-convert:hover {\n",
              "      background-color: #434B5C;\n",
              "      box-shadow: 0px 1px 3px 1px rgba(0, 0, 0, 0.15);\n",
              "      filter: drop-shadow(0px 1px 2px rgba(0, 0, 0, 0.3));\n",
              "      fill: #FFFFFF;\n",
              "    }\n",
              "  </style>\n",
              "\n",
              "      <script>\n",
              "        const buttonEl =\n",
              "          document.querySelector('#df-cbaadccb-dd7d-4b21-b13b-ac6b3513c3a0 button.colab-df-convert');\n",
              "        buttonEl.style.display =\n",
              "          google.colab.kernel.accessAllowed ? 'block' : 'none';\n",
              "\n",
              "        async function convertToInteractive(key) {\n",
              "          const element = document.querySelector('#df-cbaadccb-dd7d-4b21-b13b-ac6b3513c3a0');\n",
              "          const dataTable =\n",
              "            await google.colab.kernel.invokeFunction('convertToInteractive',\n",
              "                                                     [key], {});\n",
              "          if (!dataTable) return;\n",
              "\n",
              "          const docLinkHtml = 'Like what you see? Visit the ' +\n",
              "            '<a target=\"_blank\" href=https://colab.research.google.com/notebooks/data_table.ipynb>data table notebook</a>'\n",
              "            + ' to learn more about interactive tables.';\n",
              "          element.innerHTML = '';\n",
              "          dataTable['output_type'] = 'display_data';\n",
              "          await google.colab.output.renderOutput(dataTable, element);\n",
              "          const docLink = document.createElement('div');\n",
              "          docLink.innerHTML = docLinkHtml;\n",
              "          element.appendChild(docLink);\n",
              "        }\n",
              "      </script>\n",
              "    </div>\n",
              "  </div>\n",
              "  "
            ]
          },
          "metadata": {},
          "execution_count": 22
        }
      ]
    },
    {
      "cell_type": "code",
      "source": [
        "data_float = df.select_dtypes('float')\n",
        "data_float.head()"
      ],
      "metadata": {
        "colab": {
          "base_uri": "https://localhost:8080/",
          "height": 206
        },
        "id": "7yceJHhrzebR",
        "outputId": "460f9da7-063f-48ba-970b-1f14df5d7e01"
      },
      "execution_count": 23,
      "outputs": [
        {
          "output_type": "execute_result",
          "data": {
            "text/plain": [
              "    Length  Width  Price_$\n",
              "1     4.00   1.50   3839.0\n",
              "2     3.69   1.42   4222.4\n",
              "4     3.55   1.46   3738.9\n",
              "5     4.03   1.56   4088.0\n",
              "10    4.35   1.75   3920.0"
            ],
            "text/html": [
              "\n",
              "  <div id=\"df-5d2ddf5d-0efb-46dd-91c5-4c677b8ec9f3\">\n",
              "    <div class=\"colab-df-container\">\n",
              "      <div>\n",
              "<style scoped>\n",
              "    .dataframe tbody tr th:only-of-type {\n",
              "        vertical-align: middle;\n",
              "    }\n",
              "\n",
              "    .dataframe tbody tr th {\n",
              "        vertical-align: top;\n",
              "    }\n",
              "\n",
              "    .dataframe thead th {\n",
              "        text-align: right;\n",
              "    }\n",
              "</style>\n",
              "<table border=\"1\" class=\"dataframe\">\n",
              "  <thead>\n",
              "    <tr style=\"text-align: right;\">\n",
              "      <th></th>\n",
              "      <th>Length</th>\n",
              "      <th>Width</th>\n",
              "      <th>Price_$</th>\n",
              "    </tr>\n",
              "  </thead>\n",
              "  <tbody>\n",
              "    <tr>\n",
              "      <th>1</th>\n",
              "      <td>4.00</td>\n",
              "      <td>1.50</td>\n",
              "      <td>3839.0</td>\n",
              "    </tr>\n",
              "    <tr>\n",
              "      <th>2</th>\n",
              "      <td>3.69</td>\n",
              "      <td>1.42</td>\n",
              "      <td>4222.4</td>\n",
              "    </tr>\n",
              "    <tr>\n",
              "      <th>4</th>\n",
              "      <td>3.55</td>\n",
              "      <td>1.46</td>\n",
              "      <td>3738.9</td>\n",
              "    </tr>\n",
              "    <tr>\n",
              "      <th>5</th>\n",
              "      <td>4.03</td>\n",
              "      <td>1.56</td>\n",
              "      <td>4088.0</td>\n",
              "    </tr>\n",
              "    <tr>\n",
              "      <th>10</th>\n",
              "      <td>4.35</td>\n",
              "      <td>1.75</td>\n",
              "      <td>3920.0</td>\n",
              "    </tr>\n",
              "  </tbody>\n",
              "</table>\n",
              "</div>\n",
              "      <button class=\"colab-df-convert\" onclick=\"convertToInteractive('df-5d2ddf5d-0efb-46dd-91c5-4c677b8ec9f3')\"\n",
              "              title=\"Convert this dataframe to an interactive table.\"\n",
              "              style=\"display:none;\">\n",
              "        \n",
              "  <svg xmlns=\"http://www.w3.org/2000/svg\" height=\"24px\"viewBox=\"0 0 24 24\"\n",
              "       width=\"24px\">\n",
              "    <path d=\"M0 0h24v24H0V0z\" fill=\"none\"/>\n",
              "    <path d=\"M18.56 5.44l.94 2.06.94-2.06 2.06-.94-2.06-.94-.94-2.06-.94 2.06-2.06.94zm-11 1L8.5 8.5l.94-2.06 2.06-.94-2.06-.94L8.5 2.5l-.94 2.06-2.06.94zm10 10l.94 2.06.94-2.06 2.06-.94-2.06-.94-.94-2.06-.94 2.06-2.06.94z\"/><path d=\"M17.41 7.96l-1.37-1.37c-.4-.4-.92-.59-1.43-.59-.52 0-1.04.2-1.43.59L10.3 9.45l-7.72 7.72c-.78.78-.78 2.05 0 2.83L4 21.41c.39.39.9.59 1.41.59.51 0 1.02-.2 1.41-.59l7.78-7.78 2.81-2.81c.8-.78.8-2.07 0-2.86zM5.41 20L4 18.59l7.72-7.72 1.47 1.35L5.41 20z\"/>\n",
              "  </svg>\n",
              "      </button>\n",
              "      \n",
              "  <style>\n",
              "    .colab-df-container {\n",
              "      display:flex;\n",
              "      flex-wrap:wrap;\n",
              "      gap: 12px;\n",
              "    }\n",
              "\n",
              "    .colab-df-convert {\n",
              "      background-color: #E8F0FE;\n",
              "      border: none;\n",
              "      border-radius: 50%;\n",
              "      cursor: pointer;\n",
              "      display: none;\n",
              "      fill: #1967D2;\n",
              "      height: 32px;\n",
              "      padding: 0 0 0 0;\n",
              "      width: 32px;\n",
              "    }\n",
              "\n",
              "    .colab-df-convert:hover {\n",
              "      background-color: #E2EBFA;\n",
              "      box-shadow: 0px 1px 2px rgba(60, 64, 67, 0.3), 0px 1px 3px 1px rgba(60, 64, 67, 0.15);\n",
              "      fill: #174EA6;\n",
              "    }\n",
              "\n",
              "    [theme=dark] .colab-df-convert {\n",
              "      background-color: #3B4455;\n",
              "      fill: #D2E3FC;\n",
              "    }\n",
              "\n",
              "    [theme=dark] .colab-df-convert:hover {\n",
              "      background-color: #434B5C;\n",
              "      box-shadow: 0px 1px 3px 1px rgba(0, 0, 0, 0.15);\n",
              "      filter: drop-shadow(0px 1px 2px rgba(0, 0, 0, 0.3));\n",
              "      fill: #FFFFFF;\n",
              "    }\n",
              "  </style>\n",
              "\n",
              "      <script>\n",
              "        const buttonEl =\n",
              "          document.querySelector('#df-5d2ddf5d-0efb-46dd-91c5-4c677b8ec9f3 button.colab-df-convert');\n",
              "        buttonEl.style.display =\n",
              "          google.colab.kernel.accessAllowed ? 'block' : 'none';\n",
              "\n",
              "        async function convertToInteractive(key) {\n",
              "          const element = document.querySelector('#df-5d2ddf5d-0efb-46dd-91c5-4c677b8ec9f3');\n",
              "          const dataTable =\n",
              "            await google.colab.kernel.invokeFunction('convertToInteractive',\n",
              "                                                     [key], {});\n",
              "          if (!dataTable) return;\n",
              "\n",
              "          const docLinkHtml = 'Like what you see? Visit the ' +\n",
              "            '<a target=\"_blank\" href=https://colab.research.google.com/notebooks/data_table.ipynb>data table notebook</a>'\n",
              "            + ' to learn more about interactive tables.';\n",
              "          element.innerHTML = '';\n",
              "          dataTable['output_type'] = 'display_data';\n",
              "          await google.colab.output.renderOutput(dataTable, element);\n",
              "          const docLink = document.createElement('div');\n",
              "          docLink.innerHTML = docLinkHtml;\n",
              "          element.appendChild(docLink);\n",
              "        }\n",
              "      </script>\n",
              "    </div>\n",
              "  </div>\n",
              "  "
            ]
          },
          "metadata": {},
          "execution_count": 23
        }
      ]
    },
    {
      "cell_type": "code",
      "source": [
        "data_object = df.select_dtypes('object')\n",
        "data_object.columns"
      ],
      "metadata": {
        "colab": {
          "base_uri": "https://localhost:8080/"
        },
        "id": "lNPYQOZY0ESx",
        "outputId": "768f1a81-57b0-4ace-d875-0479189a6aa1"
      },
      "execution_count": 24,
      "outputs": [
        {
          "output_type": "execute_result",
          "data": {
            "text/plain": [
              "Index(['Boat Type', 'Manufacturer', 'Type', 'Material', 'Location'], dtype='object')"
            ]
          },
          "metadata": {},
          "execution_count": 24
        }
      ]
    },
    {
      "cell_type": "code",
      "source": [
        "from sklearn.preprocessing import LabelEncoder\n",
        "lr = LabelEncoder()"
      ],
      "metadata": {
        "id": "z4ol1GSr0NxW"
      },
      "execution_count": 25,
      "outputs": []
    },
    {
      "cell_type": "code",
      "source": [
        "df['Boat Type']=lr.fit_transform(df['Boat Type'])\n",
        "df['Manufacturer'] = lr.fit_transform(df['Manufacturer'])\n",
        "df['Type'] = lr.fit_transform(df['Type'])\n",
        "df['Material'] = lr.fit_transform(df['Material'])"
      ],
      "metadata": {
        "id": "FgrxxArG0eH-"
      },
      "execution_count": 28,
      "outputs": []
    },
    {
      "cell_type": "code",
      "source": [
        "df['Location']=lr.fit_transform(df['Location'])"
      ],
      "metadata": {
        "id": "6Zbtp9Gb6CH4"
      },
      "execution_count": 37,
      "outputs": []
    },
    {
      "cell_type": "code",
      "source": [
        "df.head()"
      ],
      "metadata": {
        "colab": {
          "base_uri": "https://localhost:8080/",
          "height": 206
        },
        "id": "9Nn1WcPa0qyv",
        "outputId": "72179deb-4be0-4dc9-9942-2f98dadbeb22"
      },
      "execution_count": 38,
      "outputs": [
        {
          "output_type": "execute_result",
          "data": {
            "text/plain": [
              "    Boat Type  Manufacturer  Type  Year Built  Length  Width  Material  \\\n",
              "1          36           719    14        2020    4.00   1.50         8   \n",
              "2          99           444    14           0    3.69   1.42         0   \n",
              "4          62           410    14        2019    3.55   1.46         0   \n",
              "5          99           410    14           0    4.03   1.56         0   \n",
              "10         62           719    10        1987    4.35   1.75         2   \n",
              "\n",
              "    Location  Number of views last 7 days  Price_$  \n",
              "1        790                           75   3839.0  \n",
              "2       2099                          124   4222.4  \n",
              "4        711                           58   3738.9  \n",
              "5       2004                          132   4088.0  \n",
              "10      2194                          239   3920.0  "
            ],
            "text/html": [
              "\n",
              "  <div id=\"df-77c042ee-0f7b-41dc-b587-a968f839b3a7\">\n",
              "    <div class=\"colab-df-container\">\n",
              "      <div>\n",
              "<style scoped>\n",
              "    .dataframe tbody tr th:only-of-type {\n",
              "        vertical-align: middle;\n",
              "    }\n",
              "\n",
              "    .dataframe tbody tr th {\n",
              "        vertical-align: top;\n",
              "    }\n",
              "\n",
              "    .dataframe thead th {\n",
              "        text-align: right;\n",
              "    }\n",
              "</style>\n",
              "<table border=\"1\" class=\"dataframe\">\n",
              "  <thead>\n",
              "    <tr style=\"text-align: right;\">\n",
              "      <th></th>\n",
              "      <th>Boat Type</th>\n",
              "      <th>Manufacturer</th>\n",
              "      <th>Type</th>\n",
              "      <th>Year Built</th>\n",
              "      <th>Length</th>\n",
              "      <th>Width</th>\n",
              "      <th>Material</th>\n",
              "      <th>Location</th>\n",
              "      <th>Number of views last 7 days</th>\n",
              "      <th>Price_$</th>\n",
              "    </tr>\n",
              "  </thead>\n",
              "  <tbody>\n",
              "    <tr>\n",
              "      <th>1</th>\n",
              "      <td>36</td>\n",
              "      <td>719</td>\n",
              "      <td>14</td>\n",
              "      <td>2020</td>\n",
              "      <td>4.00</td>\n",
              "      <td>1.50</td>\n",
              "      <td>8</td>\n",
              "      <td>790</td>\n",
              "      <td>75</td>\n",
              "      <td>3839.0</td>\n",
              "    </tr>\n",
              "    <tr>\n",
              "      <th>2</th>\n",
              "      <td>99</td>\n",
              "      <td>444</td>\n",
              "      <td>14</td>\n",
              "      <td>0</td>\n",
              "      <td>3.69</td>\n",
              "      <td>1.42</td>\n",
              "      <td>0</td>\n",
              "      <td>2099</td>\n",
              "      <td>124</td>\n",
              "      <td>4222.4</td>\n",
              "    </tr>\n",
              "    <tr>\n",
              "      <th>4</th>\n",
              "      <td>62</td>\n",
              "      <td>410</td>\n",
              "      <td>14</td>\n",
              "      <td>2019</td>\n",
              "      <td>3.55</td>\n",
              "      <td>1.46</td>\n",
              "      <td>0</td>\n",
              "      <td>711</td>\n",
              "      <td>58</td>\n",
              "      <td>3738.9</td>\n",
              "    </tr>\n",
              "    <tr>\n",
              "      <th>5</th>\n",
              "      <td>99</td>\n",
              "      <td>410</td>\n",
              "      <td>14</td>\n",
              "      <td>0</td>\n",
              "      <td>4.03</td>\n",
              "      <td>1.56</td>\n",
              "      <td>0</td>\n",
              "      <td>2004</td>\n",
              "      <td>132</td>\n",
              "      <td>4088.0</td>\n",
              "    </tr>\n",
              "    <tr>\n",
              "      <th>10</th>\n",
              "      <td>62</td>\n",
              "      <td>719</td>\n",
              "      <td>10</td>\n",
              "      <td>1987</td>\n",
              "      <td>4.35</td>\n",
              "      <td>1.75</td>\n",
              "      <td>2</td>\n",
              "      <td>2194</td>\n",
              "      <td>239</td>\n",
              "      <td>3920.0</td>\n",
              "    </tr>\n",
              "  </tbody>\n",
              "</table>\n",
              "</div>\n",
              "      <button class=\"colab-df-convert\" onclick=\"convertToInteractive('df-77c042ee-0f7b-41dc-b587-a968f839b3a7')\"\n",
              "              title=\"Convert this dataframe to an interactive table.\"\n",
              "              style=\"display:none;\">\n",
              "        \n",
              "  <svg xmlns=\"http://www.w3.org/2000/svg\" height=\"24px\"viewBox=\"0 0 24 24\"\n",
              "       width=\"24px\">\n",
              "    <path d=\"M0 0h24v24H0V0z\" fill=\"none\"/>\n",
              "    <path d=\"M18.56 5.44l.94 2.06.94-2.06 2.06-.94-2.06-.94-.94-2.06-.94 2.06-2.06.94zm-11 1L8.5 8.5l.94-2.06 2.06-.94-2.06-.94L8.5 2.5l-.94 2.06-2.06.94zm10 10l.94 2.06.94-2.06 2.06-.94-2.06-.94-.94-2.06-.94 2.06-2.06.94z\"/><path d=\"M17.41 7.96l-1.37-1.37c-.4-.4-.92-.59-1.43-.59-.52 0-1.04.2-1.43.59L10.3 9.45l-7.72 7.72c-.78.78-.78 2.05 0 2.83L4 21.41c.39.39.9.59 1.41.59.51 0 1.02-.2 1.41-.59l7.78-7.78 2.81-2.81c.8-.78.8-2.07 0-2.86zM5.41 20L4 18.59l7.72-7.72 1.47 1.35L5.41 20z\"/>\n",
              "  </svg>\n",
              "      </button>\n",
              "      \n",
              "  <style>\n",
              "    .colab-df-container {\n",
              "      display:flex;\n",
              "      flex-wrap:wrap;\n",
              "      gap: 12px;\n",
              "    }\n",
              "\n",
              "    .colab-df-convert {\n",
              "      background-color: #E8F0FE;\n",
              "      border: none;\n",
              "      border-radius: 50%;\n",
              "      cursor: pointer;\n",
              "      display: none;\n",
              "      fill: #1967D2;\n",
              "      height: 32px;\n",
              "      padding: 0 0 0 0;\n",
              "      width: 32px;\n",
              "    }\n",
              "\n",
              "    .colab-df-convert:hover {\n",
              "      background-color: #E2EBFA;\n",
              "      box-shadow: 0px 1px 2px rgba(60, 64, 67, 0.3), 0px 1px 3px 1px rgba(60, 64, 67, 0.15);\n",
              "      fill: #174EA6;\n",
              "    }\n",
              "\n",
              "    [theme=dark] .colab-df-convert {\n",
              "      background-color: #3B4455;\n",
              "      fill: #D2E3FC;\n",
              "    }\n",
              "\n",
              "    [theme=dark] .colab-df-convert:hover {\n",
              "      background-color: #434B5C;\n",
              "      box-shadow: 0px 1px 3px 1px rgba(0, 0, 0, 0.15);\n",
              "      filter: drop-shadow(0px 1px 2px rgba(0, 0, 0, 0.3));\n",
              "      fill: #FFFFFF;\n",
              "    }\n",
              "  </style>\n",
              "\n",
              "      <script>\n",
              "        const buttonEl =\n",
              "          document.querySelector('#df-77c042ee-0f7b-41dc-b587-a968f839b3a7 button.colab-df-convert');\n",
              "        buttonEl.style.display =\n",
              "          google.colab.kernel.accessAllowed ? 'block' : 'none';\n",
              "\n",
              "        async function convertToInteractive(key) {\n",
              "          const element = document.querySelector('#df-77c042ee-0f7b-41dc-b587-a968f839b3a7');\n",
              "          const dataTable =\n",
              "            await google.colab.kernel.invokeFunction('convertToInteractive',\n",
              "                                                     [key], {});\n",
              "          if (!dataTable) return;\n",
              "\n",
              "          const docLinkHtml = 'Like what you see? Visit the ' +\n",
              "            '<a target=\"_blank\" href=https://colab.research.google.com/notebooks/data_table.ipynb>data table notebook</a>'\n",
              "            + ' to learn more about interactive tables.';\n",
              "          element.innerHTML = '';\n",
              "          dataTable['output_type'] = 'display_data';\n",
              "          await google.colab.output.renderOutput(dataTable, element);\n",
              "          const docLink = document.createElement('div');\n",
              "          docLink.innerHTML = docLinkHtml;\n",
              "          element.appendChild(docLink);\n",
              "        }\n",
              "      </script>\n",
              "    </div>\n",
              "  </div>\n",
              "  "
            ]
          },
          "metadata": {},
          "execution_count": 38
        }
      ]
    },
    {
      "cell_type": "code",
      "source": [
        "import seaborn as sns"
      ],
      "metadata": {
        "id": "1w1LBsxf1QXZ"
      },
      "execution_count": 39,
      "outputs": []
    },
    {
      "cell_type": "code",
      "source": [
        "df.info()"
      ],
      "metadata": {
        "colab": {
          "base_uri": "https://localhost:8080/"
        },
        "id": "WLhSE3aG11kg",
        "outputId": "5cc6fd71-bc92-424a-e943-28241430af62"
      },
      "execution_count": 40,
      "outputs": [
        {
          "output_type": "stream",
          "name": "stdout",
          "text": [
            "<class 'pandas.core.frame.DataFrame'>\n",
            "Int64Index: 7019 entries, 1 to 9887\n",
            "Data columns (total 10 columns):\n",
            " #   Column                       Non-Null Count  Dtype  \n",
            "---  ------                       --------------  -----  \n",
            " 0   Boat Type                    7019 non-null   int64  \n",
            " 1   Manufacturer                 7019 non-null   int64  \n",
            " 2   Type                         7019 non-null   int64  \n",
            " 3   Year Built                   7019 non-null   int64  \n",
            " 4   Length                       7019 non-null   float64\n",
            " 5   Width                        7019 non-null   float64\n",
            " 6   Material                     7019 non-null   int64  \n",
            " 7   Location                     7019 non-null   int64  \n",
            " 8   Number of views last 7 days  7019 non-null   int64  \n",
            " 9   Price_$                      7019 non-null   float64\n",
            "dtypes: float64(3), int64(7)\n",
            "memory usage: 603.2 KB\n"
          ]
        }
      ]
    },
    {
      "cell_type": "code",
      "source": [
        "sns.heatmap(df.corr(), annot=True)"
      ],
      "metadata": {
        "colab": {
          "base_uri": "https://localhost:8080/",
          "height": 635
        },
        "id": "rer59ope1f2s",
        "outputId": "f20a9a23-4d55-455e-9e21-4f3382b16313"
      },
      "execution_count": 41,
      "outputs": [
        {
          "output_type": "execute_result",
          "data": {
            "text/plain": [
              "<Axes: >"
            ]
          },
          "metadata": {},
          "execution_count": 41
        },
        {
          "output_type": "display_data",
          "data": {
            "text/plain": [
              "<Figure size 640x480 with 2 Axes>"
            ],
            "image/png": "[encoded data removed]"
          },
          "metadata": {}
        }
      ]
    },
    {
      "cell_type": "code",
      "source": [
        "sns.distplot(df['Price_$'])"
      ],
      "metadata": {
        "colab": {
          "base_uri": "https://localhost:8080/",
          "height": 673
        },
        "id": "10pCAPXn1s4S",
        "outputId": "6e7ea00f-dc5b-4c77-e513-abbb088ebaa0"
      },
      "execution_count": 42,
      "outputs": [
        {
          "output_type": "stream",
          "name": "stderr",
          "text": [
            "<ipython-input-42-3eb4b0d95c25>:1: UserWarning: \n",
            "\n",
            "`distplot` is a deprecated function and will be removed in seaborn v0.14.0.\n",
            "\n",
            "Please adapt your code to use either `displot` (a figure-level function with\n",
            "similar flexibility) or `histplot` (an axes-level function for histograms).\n",
            "\n",
            "For a guide to updating your code to use the new functions, please see\n",
            "https://gist.github.com/mwaskom/de44147ed2974457ad6372750bbe5751\n",
            "\n",
            "  sns.distplot(df['Price_$'])\n"
          ]
        },
        {
          "output_type": "execute_result",
          "data": {
            "text/plain": [
              "<Axes: xlabel='Price_$', ylabel='Density'>"
            ]
          },
          "metadata": {},
          "execution_count": 42
        },
        {
          "output_type": "display_data",
          "data": {
            "text/plain": [
              "<Figure size 640x480 with 1 Axes>"
            ],
            "image/png": "[encoded data removed]"
          },
          "metadata": {}
        }
      ]
    },
    {
      "cell_type": "code",
      "source": [
        "X = df.drop(['Price_$'], axis=1)\n",
        "y = df['Price_$']"
      ],
      "metadata": {
        "id": "sOkAgSa35a5d"
      },
      "execution_count": 43,
      "outputs": []
    },
    {
      "cell_type": "code",
      "source": [
        "X"
      ],
      "metadata": {
        "colab": {
          "base_uri": "https://localhost:8080/",
          "height": 423
        },
        "id": "ATV7lIdC5yq7",
        "outputId": "039b6f61-aa85-4ce8-db11-5711fc38f960"
      },
      "execution_count": 44,
      "outputs": [
        {
          "output_type": "execute_result",
          "data": {
            "text/plain": [
              "      Boat Type  Manufacturer  Type  Year Built  Length  Width  Material  \\\n",
              "1            36           719    14        2020    4.00   1.50         8   \n",
              "2            99           444    14           0    3.69   1.42         0   \n",
              "4            62           410    14        2019    3.55   1.46         0   \n",
              "5            99           410    14           0    4.03   1.56         0   \n",
              "10           62           719    10        1987    4.35   1.75         2   \n",
              "...         ...           ...   ...         ...     ...    ...       ...   \n",
              "9880         99           410    14           0    4.01   1.64         0   \n",
              "9881         99           444    14           0    3.99   1.52         0   \n",
              "9882         62           679    13        1984    6.00   1.62         5   \n",
              "9885         99           112    19        2020    4.40   1.80         2   \n",
              "9887         62           206    14        2019    3.60   1.60         2   \n",
              "\n",
              "      Location  Number of views last 7 days  \n",
              "1          790                           75  \n",
              "2         2099                          124  \n",
              "4          711                           58  \n",
              "5         2004                          132  \n",
              "10        2194                          239  \n",
              "...        ...                          ...  \n",
              "9880      2004                          247  \n",
              "9881      2099                          150  \n",
              "9882      1888                          288  \n",
              "9885      1018                          354  \n",
              "9887      1910                          194  \n",
              "\n",
              "[7019 rows x 9 columns]"
            ],
            "text/html": [
              "\n",
              "  <div id=\"df-6e92d477-b91a-4ada-8e08-3591ec13f043\">\n",
              "    <div class=\"colab-df-container\">\n",
              "      <div>\n",
              "<style scoped>\n",
              "    .dataframe tbody tr th:only-of-type {\n",
              "        vertical-align: middle;\n",
              "    }\n",
              "\n",
              "    .dataframe tbody tr th {\n",
              "        vertical-align: top;\n",
              "    }\n",
              "\n",
              "    .dataframe thead th {\n",
              "        text-align: right;\n",
              "    }\n",
              "</style>\n",
              "<table border=\"1\" class=\"dataframe\">\n",
              "  <thead>\n",
              "    <tr style=\"text-align: right;\">\n",
              "      <th></th>\n",
              "      <th>Boat Type</th>\n",
              "      <th>Manufacturer</th>\n",
              "      <th>Type</th>\n",
              "      <th>Year Built</th>\n",
              "      <th>Length</th>\n",
              "      <th>Width</th>\n",
              "      <th>Material</th>\n",
              "      <th>Location</th>\n",
              "      <th>Number of views last 7 days</th>\n",
              "    </tr>\n",
              "  </thead>\n",
              "  <tbody>\n",
              "    <tr>\n",
              "      <th>1</th>\n",
              "      <td>36</td>\n",
              "      <td>719</td>\n",
              "      <td>14</td>\n",
              "      <td>2020</td>\n",
              "      <td>4.00</td>\n",
              "      <td>1.50</td>\n",
              "      <td>8</td>\n",
              "      <td>790</td>\n",
              "      <td>75</td>\n",
              "    </tr>\n",
              "    <tr>\n",
              "      <th>2</th>\n",
              "      <td>99</td>\n",
              "      <td>444</td>\n",
              "      <td>14</td>\n",
              "      <td>0</td>\n",
              "      <td>3.69</td>\n",
              "      <td>1.42</td>\n",
              "      <td>0</td>\n",
              "      <td>2099</td>\n",
              "      <td>124</td>\n",
              "    </tr>\n",
              "    <tr>\n",
              "      <th>4</th>\n",
              "      <td>62</td>\n",
              "      <td>410</td>\n",
              "      <td>14</td>\n",
              "      <td>2019</td>\n",
              "      <td>3.55</td>\n",
              "      <td>1.46</td>\n",
              "      <td>0</td>\n",
              "      <td>711</td>\n",
              "      <td>58</td>\n",
              "    </tr>\n",
              "    <tr>\n",
              "      <th>5</th>\n",
              "      <td>99</td>\n",
              "      <td>410</td>\n",
              "      <td>14</td>\n",
              "      <td>0</td>\n",
              "      <td>4.03</td>\n",
              "      <td>1.56</td>\n",
              "      <td>0</td>\n",
              "      <td>2004</td>\n",
              "      <td>132</td>\n",
              "    </tr>\n",
              "    <tr>\n",
              "      <th>10</th>\n",
              "      <td>62</td>\n",
              "      <td>719</td>\n",
              "      <td>10</td>\n",
              "      <td>1987</td>\n",
              "      <td>4.35</td>\n",
              "      <td>1.75</td>\n",
              "      <td>2</td>\n",
              "      <td>2194</td>\n",
              "      <td>239</td>\n",
              "    </tr>\n",
              "    <tr>\n",
              "      <th>...</th>\n",
              "      <td>...</td>\n",
              "      <td>...</td>\n",
              "      <td>...</td>\n",
              "      <td>...</td>\n",
              "      <td>...</td>\n",
              "      <td>...</td>\n",
              "      <td>...</td>\n",
              "      <td>...</td>\n",
              "      <td>...</td>\n",
              "    </tr>\n",
              "    <tr>\n",
              "      <th>9880</th>\n",
              "      <td>99</td>\n",
              "      <td>410</td>\n",
              "      <td>14</td>\n",
              "      <td>0</td>\n",
              "      <td>4.01</td>\n",
              "      <td>1.64</td>\n",
              "      <td>0</td>\n",
              "      <td>2004</td>\n",
              "      <td>247</td>\n",
              "    </tr>\n",
              "    <tr>\n",
              "      <th>9881</th>\n",
              "      <td>99</td>\n",
              "      <td>444</td>\n",
              "      <td>14</td>\n",
              "      <td>0</td>\n",
              "      <td>3.99</td>\n",
              "      <td>1.52</td>\n",
              "      <td>0</td>\n",
              "      <td>2099</td>\n",
              "      <td>150</td>\n",
              "    </tr>\n",
              "    <tr>\n",
              "      <th>9882</th>\n",
              "      <td>62</td>\n",
              "      <td>679</td>\n",
              "      <td>13</td>\n",
              "      <td>1984</td>\n",
              "      <td>6.00</td>\n",
              "      <td>1.62</td>\n",
              "      <td>5</td>\n",
              "      <td>1888</td>\n",
              "      <td>288</td>\n",
              "    </tr>\n",
              "    <tr>\n",
              "      <th>9885</th>\n",
              "      <td>99</td>\n",
              "      <td>112</td>\n",
              "      <td>19</td>\n",
              "      <td>2020</td>\n",
              "      <td>4.40</td>\n",
              "      <td>1.80</td>\n",
              "      <td>2</td>\n",
              "      <td>1018</td>\n",
              "      <td>354</td>\n",
              "    </tr>\n",
              "    <tr>\n",
              "      <th>9887</th>\n",
              "      <td>62</td>\n",
              "      <td>206</td>\n",
              "      <td>14</td>\n",
              "      <td>2019</td>\n",
              "      <td>3.60</td>\n",
              "      <td>1.60</td>\n",
              "      <td>2</td>\n",
              "      <td>1910</td>\n",
              "      <td>194</td>\n",
              "    </tr>\n",
              "  </tbody>\n",
              "</table>\n",
              "<p>7019 rows × 9 columns</p>\n",
              "</div>\n",
              "      <button class=\"colab-df-convert\" onclick=\"convertToInteractive('df-6e92d477-b91a-4ada-8e08-3591ec13f043')\"\n",
              "              title=\"Convert this dataframe to an interactive table.\"\n",
              "              style=\"display:none;\">\n",
              "        \n",
              "  <svg xmlns=\"http://www.w3.org/2000/svg\" height=\"24px\"viewBox=\"0 0 24 24\"\n",
              "       width=\"24px\">\n",
              "    <path d=\"M0 0h24v24H0V0z\" fill=\"none\"/>\n",
              "    <path d=\"M18.56 5.44l.94 2.06.94-2.06 2.06-.94-2.06-.94-.94-2.06-.94 2.06-2.06.94zm-11 1L8.5 8.5l.94-2.06 2.06-.94-2.06-.94L8.5 2.5l-.94 2.06-2.06.94zm10 10l.94 2.06.94-2.06 2.06-.94-2.06-.94-.94-2.06-.94 2.06-2.06.94z\"/><path d=\"M17.41 7.96l-1.37-1.37c-.4-.4-.92-.59-1.43-.59-.52 0-1.04.2-1.43.59L10.3 9.45l-7.72 7.72c-.78.78-.78 2.05 0 2.83L4 21.41c.39.39.9.59 1.41.59.51 0 1.02-.2 1.41-.59l7.78-7.78 2.81-2.81c.8-.78.8-2.07 0-2.86zM5.41 20L4 18.59l7.72-7.72 1.47 1.35L5.41 20z\"/>\n",
              "  </svg>\n",
              "      </button>\n",
              "      \n",
              "  <style>\n",
              "    .colab-df-container {\n",
              "      display:flex;\n",
              "      flex-wrap:wrap;\n",
              "      gap: 12px;\n",
              "    }\n",
              "\n",
              "    .colab-df-convert {\n",
              "      background-color: #E8F0FE;\n",
              "      border: none;\n",
              "      border-radius: 50%;\n",
              "      cursor: pointer;\n",
              "      display: none;\n",
              "      fill: #1967D2;\n",
              "      height: 32px;\n",
              "      padding: 0 0 0 0;\n",
              "      width: 32px;\n",
              "    }\n",
              "\n",
              "    .colab-df-convert:hover {\n",
              "      background-color: #E2EBFA;\n",
              "      box-shadow: 0px 1px 2px rgba(60, 64, 67, 0.3), 0px 1px 3px 1px rgba(60, 64, 67, 0.15);\n",
              "      fill: #174EA6;\n",
              "    }\n",
              "\n",
              "    [theme=dark] .colab-df-convert {\n",
              "      background-color: #3B4455;\n",
              "      fill: #D2E3FC;\n",
              "    }\n",
              "\n",
              "    [theme=dark] .colab-df-convert:hover {\n",
              "      background-color: #434B5C;\n",
              "      box-shadow: 0px 1px 3px 1px rgba(0, 0, 0, 0.15);\n",
              "      filter: drop-shadow(0px 1px 2px rgba(0, 0, 0, 0.3));\n",
              "      fill: #FFFFFF;\n",
              "    }\n",
              "  </style>\n",
              "\n",
              "      <script>\n",
              "        const buttonEl =\n",
              "          document.querySelector('#df-6e92d477-b91a-4ada-8e08-3591ec13f043 button.colab-df-convert');\n",
              "        buttonEl.style.display =\n",
              "          google.colab.kernel.accessAllowed ? 'block' : 'none';\n",
              "\n",
              "        async function convertToInteractive(key) {\n",
              "          const element = document.querySelector('#df-6e92d477-b91a-4ada-8e08-3591ec13f043');\n",
              "          const dataTable =\n",
              "            await google.colab.kernel.invokeFunction('convertToInteractive',\n",
              "                                                     [key], {});\n",
              "          if (!dataTable) return;\n",
              "\n",
              "          const docLinkHtml = 'Like what you see? Visit the ' +\n",
              "            '<a target=\"_blank\" href=https://colab.research.google.com/notebooks/data_table.ipynb>data table notebook</a>'\n",
              "            + ' to learn more about interactive tables.';\n",
              "          element.innerHTML = '';\n",
              "          dataTable['output_type'] = 'display_data';\n",
              "          await google.colab.output.renderOutput(dataTable, element);\n",
              "          const docLink = document.createElement('div');\n",
              "          docLink.innerHTML = docLinkHtml;\n",
              "          element.appendChild(docLink);\n",
              "        }\n",
              "      </script>\n",
              "    </div>\n",
              "  </div>\n",
              "  "
            ]
          },
          "metadata": {},
          "execution_count": 44
        }
      ]
    },
    {
      "cell_type": "code",
      "source": [
        "y"
      ],
      "metadata": {
        "colab": {
          "base_uri": "https://localhost:8080/"
        },
        "id": "CslVg1TZ50Cx",
        "outputId": "18fd75c1-1f5a-443e-a943-b0704a89ddbd"
      },
      "execution_count": 45,
      "outputs": [
        {
          "output_type": "execute_result",
          "data": {
            "text/plain": [
              "1       3839.0\n",
              "2       4222.4\n",
              "4       3738.9\n",
              "5       4088.0\n",
              "10      3920.0\n",
              "         ...  \n",
              "9880    5577.6\n",
              "9881    5544.0\n",
              "9882    5544.0\n",
              "9885    4948.9\n",
              "9887    4233.6\n",
              "Name: Price_$, Length: 7019, dtype: float64"
            ]
          },
          "metadata": {},
          "execution_count": 45
        }
      ]
    },
    {
      "cell_type": "code",
      "source": [
        "from sklearn.model_selection import train_test_split"
      ],
      "metadata": {
        "id": "LCXx03dK6Tw1"
      },
      "execution_count": 46,
      "outputs": []
    },
    {
      "cell_type": "code",
      "source": [
        "X_train, X_test, y_train, y_test = train_test_split(X,y, test_size=0.3, random_state=0)"
      ],
      "metadata": {
        "id": "dUcRHUl46eki"
      },
      "execution_count": 47,
      "outputs": []
    },
    {
      "cell_type": "code",
      "source": [
        "from sklearn.linear_model import LinearRegression\n",
        "LinReg = LinearRegression()"
      ],
      "metadata": {
        "id": "Nah4Fcnz6zK-"
      },
      "execution_count": 48,
      "outputs": []
    },
    {
      "cell_type": "code",
      "source": [
        "LinReg.fit(X_train,y_train)"
      ],
      "metadata": {
        "colab": {
          "base_uri": "https://localhost:8080/",
          "height": 74
        },
        "id": "G55TCZhE7EDu",
        "outputId": "5e43cfb3-6c93-49f5-baf0-58298588335c"
      },
      "execution_count": 49,
      "outputs": [
        {
          "output_type": "execute_result",
          "data": {
            "text/plain": [
              "LinearRegression()"
            ],
            "text/html": [
              "<style>#sk-container-id-1 {color: black;background-color: white;}#sk-container-id-1 pre{padding: 0;}#sk-container-id-1 div.sk-toggleable {background-color: white;}#sk-container-id-1 label.sk-toggleable__label {cursor: pointer;display: block;width: 100%;margin-bottom: 0;padding: 0.3em;box-sizing: border-box;text-align: center;}#sk-container-id-1 label.sk-toggleable__label-arrow:before {content: \"▸\";float: left;margin-right: 0.25em;color: #696969;}#sk-container-id-1 label.sk-toggleable__label-arrow:hover:before {color: black;}#sk-container-id-1 div.sk-estimator:hover label.sk-toggleable__label-arrow:before {color: black;}#sk-container-id-1 div.sk-toggleable__content {max-height: 0;max-width: 0;overflow: hidden;text-align: left;background-color: #f0f8ff;}#sk-container-id-1 div.sk-toggleable__content pre {margin: 0.2em;color: black;border-radius: 0.25em;background-color: #f0f8ff;}#sk-container-id-1 input.sk-toggleable__control:checked~div.sk-toggleable__content {max-height: 200px;max-width: 100%;overflow: auto;}#sk-container-id-1 input.sk-toggleable__control:checked~label.sk-toggleable__label-arrow:before {content: \"▾\";}#sk-container-id-1 div.sk-estimator input.sk-toggleable__control:checked~label.sk-toggleable__label {background-color: #d4ebff;}#sk-container-id-1 div.sk-label input.sk-toggleable__control:checked~label.sk-toggleable__label {background-color: #d4ebff;}#sk-container-id-1 input.sk-hidden--visually {border: 0;clip: rect(1px 1px 1px 1px);clip: rect(1px, 1px, 1px, 1px);height: 1px;margin: -1px;overflow: hidden;padding: 0;position: absolute;width: 1px;}#sk-container-id-1 div.sk-estimator {font-family: monospace;background-color: #f0f8ff;border: 1px dotted black;border-radius: 0.25em;box-sizing: border-box;margin-bottom: 0.5em;}#sk-container-id-1 div.sk-estimator:hover {background-color: #d4ebff;}#sk-container-id-1 div.sk-parallel-item::after {content: \"\";width: 100%;border-bottom: 1px solid gray;flex-grow: 1;}#sk-container-id-1 div.sk-label:hover label.sk-toggleable__label {background-color: #d4ebff;}#sk-container-id-1 div.sk-serial::before {content: \"\";position: absolute;border-left: 1px solid gray;box-sizing: border-box;top: 0;bottom: 0;left: 50%;z-index: 0;}#sk-container-id-1 div.sk-serial {display: flex;flex-direction: column;align-items: center;background-color: white;padding-right: 0.2em;padding-left: 0.2em;position: relative;}#sk-container-id-1 div.sk-item {position: relative;z-index: 1;}#sk-container-id-1 div.sk-parallel {display: flex;align-items: stretch;justify-content: center;background-color: white;position: relative;}#sk-container-id-1 div.sk-item::before, #sk-container-id-1 div.sk-parallel-item::before {content: \"\";position: absolute;border-left: 1px solid gray;box-sizing: border-box;top: 0;bottom: 0;left: 50%;z-index: -1;}#sk-container-id-1 div.sk-parallel-item {display: flex;flex-direction: column;z-index: 1;position: relative;background-color: white;}#sk-container-id-1 div.sk-parallel-item:first-child::after {align-self: flex-end;width: 50%;}#sk-container-id-1 div.sk-parallel-item:last-child::after {align-self: flex-start;width: 50%;}#sk-container-id-1 div.sk-parallel-item:only-child::after {width: 0;}#sk-container-id-1 div.sk-dashed-wrapped {border: 1px dashed gray;margin: 0 0.4em 0.5em 0.4em;box-sizing: border-box;padding-bottom: 0.4em;background-color: white;}#sk-container-id-1 div.sk-label label {font-family: monospace;font-weight: bold;display: inline-block;line-height: 1.2em;}#sk-container-id-1 div.sk-label-container {text-align: center;}#sk-container-id-1 div.sk-container {/* jupyter's `normalize.less` sets `[hidden] { display: none; }` but bootstrap.min.css set `[hidden] { display: none !important; }` so we also need the `!important` here to be able to override the default hidden behavior on the sphinx rendered scikit-learn.org. See: https://github.com/scikit-learn/scikit-learn/issues/21755 */display: inline-block !important;position: relative;}#sk-container-id-1 div.sk-text-repr-fallback {display: none;}</style><div id=\"sk-container-id-1\" class=\"sk-top-container\"><div class=\"sk-text-repr-fallback\"><pre>LinearRegression()</pre><b>In a Jupyter environment, please rerun this cell to show the HTML representation or trust the notebook. <br />On GitHub, the HTML representation is unable to render, please try loading this page with nbviewer.org.</b></div><div class=\"sk-container\" hidden><div class=\"sk-item\"><div class=\"sk-estimator sk-toggleable\"><input class=\"sk-toggleable__control sk-hidden--visually\" id=\"sk-estimator-id-1\" type=\"checkbox\" checked><label for=\"sk-estimator-id-1\" class=\"sk-toggleable__label sk-toggleable__label-arrow\">LinearRegression</label><div class=\"sk-toggleable__content\"><pre>LinearRegression()</pre></div></div></div></div></div>"
            ]
          },
          "metadata": {},
          "execution_count": 49
        }
      ]
    },
    {
      "cell_type": "code",
      "source": [
        "y_pred = LinReg.predict(X_test)"
      ],
      "metadata": {
        "id": "DLoII2D27S-1"
      },
      "execution_count": 50,
      "outputs": []
    },
    {
      "cell_type": "code",
      "source": [
        "y_pred"
      ],
      "metadata": {
        "colab": {
          "base_uri": "https://localhost:8080/"
        },
        "id": "sPI9ZL8L7dhX",
        "outputId": "64ecfeae-cb05-4694-c290-f441e0f145b3"
      },
      "execution_count": 51,
      "outputs": [
        {
          "output_type": "execute_result",
          "data": {
            "text/plain": [
              "array([1023291.10528689,  -50340.67133197,  422431.70416848, ...,\n",
              "         55006.89466762,  434222.41843634,   57638.216604  ])"
            ]
          },
          "metadata": {},
          "execution_count": 51
        }
      ]
    },
    {
      "cell_type": "code",
      "source": [
        "from sklearn.metrics import r2_score\n",
        "r2_score(y_test, y_pred)"
      ],
      "metadata": {
        "colab": {
          "base_uri": "https://localhost:8080/"
        },
        "id": "3uZNymZc7fqr",
        "outputId": "a71321cc-d40c-42f8-cc5b-afda41a5c409"
      },
      "execution_count": 53,
      "outputs": [
        {
          "output_type": "execute_result",
          "data": {
            "text/plain": [
              "0.39873771491718146"
            ]
          },
          "metadata": {},
          "execution_count": 53
        }
      ]
    },
    {
      "cell_type": "code",
      "source": [
        "from sklearn.metrics import mean_squared_error\n",
        "mean_squared_error(y_test, y_pred)"
      ],
      "metadata": {
        "colab": {
          "base_uri": "https://localhost:8080/"
        },
        "id": "zeB6_2RZ7qWd",
        "outputId": "8b7d577b-6c3d-47e1-bc6b-5943dbd0f66b"
      },
      "execution_count": 55,
      "outputs": [
        {
          "output_type": "execute_result",
          "data": {
            "text/plain": [
              "549980216980.6982"
            ]
          },
          "metadata": {},
          "execution_count": 55
        }
      ]
    },
    {
      "cell_type": "code",
      "source": [
        "from sklearn.metrics import mean_absolute_error\n",
        "mean_absolute_error(y_test, y_pred)"
      ],
      "metadata": {
        "colab": {
          "base_uri": "https://localhost:8080/"
        },
        "id": "XtJZni4Q8YUS",
        "outputId": "af1cadfb-c9d7-4bbd-ad89-e5eb884c3190"
      },
      "execution_count": 56,
      "outputs": [
        {
          "output_type": "execute_result",
          "data": {
            "text/plain": [
              "260047.12345116067"
            ]
          },
          "metadata": {},
          "execution_count": 56
        }
      ]
    },
    {
      "cell_type": "code",
      "source": [],
      "metadata": {
        "id": "g7obxN0z8ye2"
      },
      "execution_count": null,
      "outputs": []
    }
  ]
}